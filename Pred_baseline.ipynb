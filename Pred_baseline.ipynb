{
 "cells": [
  {
   "cell_type": "code",
   "execution_count": 2,
   "metadata": {},
   "outputs": [],
   "source": [
    "import pandas as pd\n",
    "import numpy as np\n",
    "from collections import defaultdict \n",
    "import sys\n",
    "import os\n",
    "import matplotlib.pyplot as plt\n",
    "import _thread as thread\n",
    "from tabulate import tabulate\n",
    "import threading\n",
    "import time"
   ]
  },
  {
   "cell_type": "code",
   "execution_count": 47,
   "metadata": {},
   "outputs": [],
   "source": [
    "# ADDR = './401part.csv'\n",
    "\n",
    "# file name below also in os delete command\n",
    "ADDR_LIST = [\n",
    "            '/nfs_home/matkade/pinplay/Pintool/SPEC_2017_ST_First_run/510.parest_r/510.parest_r.pinatrace.csv',\n",
    "            '/nfs_home/matkade/pinplay/Pintool/SPEC_2017_ST_First_run/511.povray_r/511.povray_r.pinatrace.csv',\n",
    "             '/nfs_home/matkade/pinplay/Pintool/SPEC_2017_ST_First_run/526.blender_r/526.blender_r.pinatrace.csv',\n",
    "             '/nfs_home/matkade/pinplay/Pintool/SPEC_2017_ST_First_run/600.perlbench_s/600.perlbench_s.pinatrace.csv',\n",
    "             '/nfs_home/matkade/pinplay/Pintool/SPEC_2017_ST_First_run/602.gcc_s/602.gcc_s.pinatrace.csv',\n",
    "#             '/nfs_home/matkade/pinplay/Pintool/SPEC_2017_ST_First_run/605.mcf_s/605.mcf_s.pinatrace.csv',\n",
    "            '/nfs_home/matkade/pinplay/Pintool/SPEC_2017_ST_First_run/620.omnetpp_s/620.omnetpp_s.pinatrace.csv',\n",
    "            '/nfs_home/matkade/pinplay/Pintool/SPEC_2017_ST_First_run/623.xalancbmk_s/623.xalancbmk_s.pinatrace.csv',\n",
    "            '/nfs_home/matkade/pinplay/Pintool/SPEC_2017_ST_First_run/625.x264_s/625.x264_s.pinatrace.csv',\n",
    "            '/nfs_home/matkade/pinplay/Pintool/SPEC_2017_ST_First_run/631.deepsjeng_s/631.deepsjeng_s.pinatrace.csv',\n",
    "            '/nfs_home/matkade/pinplay/Pintool/SPEC_2017_ST_First_run/641.leela_s/641.leela_s.pinatrace.csv',\n",
    "            '/nfs_home/matkade/pinplay/Pintool/SPEC_2017_ST_First_run/648.exchange2_s/648.exchange2_s.pinatrace.csv',\n",
    "            '/nfs_home/matkade/pinplay/Pintool/SPEC_2017_ST_First_run/657.xz_s/657.xz_s.pinatrace.csv'\n",
    "            ]\n",
    "# ADDR = '/nfs_home/SPEC_2006/400.perlbench/400.perlbench.pinatrace.csv'\n",
    "final_ADDR = '/nfs_home/nbhardwaj/data/SPEC_final/'\n",
    "addr_l = [\n",
    "    510\n",
    "    , 511, 526,\n",
    "           600, 602,  \n",
    "    620,623, 625, 631, 641, 648, 657\n",
    "         ]\n",
    "# df = pd.read_csv(ADDR, skiprows = [0], nrows = 10000)"
   ]
  },
  {
   "cell_type": "code",
   "execution_count": 49,
   "metadata": {},
   "outputs": [
    {
     "name": "stdout",
     "output_type": "stream",
     "text": [
      "510 /nfs_home/matkade/pinplay/Pintool/SPEC_2017_ST_First_run/510.parest_r/510.parest_r.pinatrace.csv\n",
      "\n",
      "511 /nfs_home/matkade/pinplay/Pintool/SPEC_2017_ST_First_run/511.povray_r/511.povray_r.pinatrace.csv\n",
      "\n",
      "526 /nfs_home/matkade/pinplay/Pintool/SPEC_2017_ST_First_run/526.blender_r/526.blender_r.pinatrace.csv\n",
      "\n",
      "600 /nfs_home/matkade/pinplay/Pintool/SPEC_2017_ST_First_run/600.perlbench_s/600.perlbench_s.pinatrace.csv\n",
      "\n",
      "602 /nfs_home/matkade/pinplay/Pintool/SPEC_2017_ST_First_run/602.gcc_s/602.gcc_s.pinatrace.csv\n",
      "\n",
      "620 /nfs_home/matkade/pinplay/Pintool/SPEC_2017_ST_First_run/620.omnetpp_s/620.omnetpp_s.pinatrace.csv\n",
      "\n",
      "623 /nfs_home/matkade/pinplay/Pintool/SPEC_2017_ST_First_run/623.xalancbmk_s/623.xalancbmk_s.pinatrace.csv\n",
      "\n",
      "625 /nfs_home/matkade/pinplay/Pintool/SPEC_2017_ST_First_run/625.x264_s/625.x264_s.pinatrace.csv\n",
      "\n",
      "631 /nfs_home/matkade/pinplay/Pintool/SPEC_2017_ST_First_run/631.deepsjeng_s/631.deepsjeng_s.pinatrace.csv\n",
      "\n",
      "641 /nfs_home/matkade/pinplay/Pintool/SPEC_2017_ST_First_run/641.leela_s/641.leela_s.pinatrace.csv\n",
      "\n",
      "648 /nfs_home/matkade/pinplay/Pintool/SPEC_2017_ST_First_run/648.exchange2_s/648.exchange2_s.pinatrace.csv\n",
      "\n",
      "657 /nfs_home/matkade/pinplay/Pintool/SPEC_2017_ST_First_run/657.xz_s/657.xz_s.pinatrace.csv\n",
      "\n"
     ]
    }
   ],
   "source": [
    "for a, b in zip(addr_l, ADDR_LIST):\n",
    "    print(a, b)\n",
    "    print(\"\")"
   ]
  },
  {
   "cell_type": "code",
   "execution_count": 54,
   "metadata": {},
   "outputs": [],
   "source": [
    "m2 = {}\n",
    "for addr, ADDR in zip(addr_l, ADDR_LIST):\n",
    "    df = pd.read_csv(ADDR, skiprows = [0], usecols = ['Data'], nrows = 100000)\n",
    "    df['Data_int'] = df.Data.apply(lambda x:int(x, 16)//64)\n",
    "    df['next_data'] = df.Data_int.shift(periods = -1)\n",
    "    m = {}\n",
    "    tot=0\n",
    "    for x in range(len(df)):\n",
    "        dat = df.loc[x].Data_int\n",
    "        next_dat = df.loc[x].next_data\n",
    "        if(m.get(dat)!=None and m[dat]==next_dat):\n",
    "            tot+=1\n",
    "        else:\n",
    "            m[dat] = next_dat\n",
    "    m2[addr] = ((tot*100)/len(df))\n",
    "    "
   ]
  },
  {
   "cell_type": "code",
   "execution_count": 55,
   "metadata": {},
   "outputs": [
    {
     "data": {
      "text/plain": [
       "{510: 49.744,\n",
       " 511: 31.387,\n",
       " 526: 33.296,\n",
       " 600: 26.175,\n",
       " 602: 37.532,\n",
       " 620: 30.614,\n",
       " 623: 39.792,\n",
       " 625: 62.737,\n",
       " 631: 32.489,\n",
       " 641: 29.415,\n",
       " 648: 22.814,\n",
       " 657: 36.021}"
      ]
     },
     "execution_count": 55,
     "metadata": {},
     "output_type": "execute_result"
    }
   ],
   "source": [
    "m2"
   ]
  },
  {
   "cell_type": "code",
   "execution_count": 60,
   "metadata": {},
   "outputs": [
    {
     "data": {
      "image/png": "[encoded data removed]",
      "text/plain": [
       "<Figure size 432x288 with 1 Axes>"
      ]
     },
     "metadata": {},
     "output_type": "display_data"
    }
   ],
   "source": [
    "import seaborn as sns\n",
    "sns.set()\n",
    "plt.bar(range(len(m2)), list(m2.values()), align = 'center')\n",
    "plt.xticks(range(len(m2)), list(m2.keys()))\n",
    "plt.xlabel('Benchmarks')\n",
    "plt.ylabel('Accuracy(%)')\n",
    "plt.title('Graph Approach (100K values)')\n",
    "plt.show()\n",
    "\n"
   ]
  }
 ],
 "metadata": {
  "kernelspec": {
   "display_name": "Python 3",
   "language": "python",
   "name": "python3"
  },
  "language_info": {
   "codemirror_mode": {
    "name": "ipython",
    "version": 3
   },
   "file_extension": ".py",
   "mimetype": "text/x-python",
   "name": "python",
   "nbconvert_exporter": "python",
   "pygments_lexer": "ipython3",
   "version": "3.5.2"
  }
 },
 "nbformat": 4,
 "nbformat_minor": 4
}
