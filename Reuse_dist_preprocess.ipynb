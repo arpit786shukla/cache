{
 "cells": [
  {
   "cell_type": "code",
   "execution_count": 2,
   "metadata": {},
   "outputs": [],
   "source": [
    "import pandas as pd\n",
    "import numpy as np\n",
    "from collections import defaultdict \n",
    "import sys\n",
    "import os\n",
    "import matplotlib.pyplot as plt\n",
    "from tabulate import tabulate\n",
    "import threading"
   ]
  },
  {
   "cell_type": "code",
   "execution_count": 48,
   "metadata": {},
   "outputs": [],
   "source": [
    "ADDR = '/nfs_home/nbhardwaj/data/SPEC_final/'\n",
    "addr_l = [\n",
    "#     510, 511, 526, 600, 602, 605, \n",
    "          620, 623, 625, 631, 641, 648, 657\n",
    "]\n",
    "final_ADDR = '/nfs_home/nbhardwaj/data/rds_final/'"
   ]
  },
  {
   "cell_type": "markdown",
   "metadata": {},
   "source": [
    "### Testing integrity of split files"
   ]
  },
  {
   "cell_type": "code",
   "execution_count": 25,
   "metadata": {},
   "outputs": [],
   "source": [
    "# sets = [x for x in range(64)]\n",
    "# f = open(ADDR+'test.csv', \"a+\")\n",
    "# for curr_set in sets:\n",
    "#     df = pd.read_csv(ADDR + str(curr_set)+'.csv')\n",
    "#     for x in df.ICount.values:\n",
    "#         f.write(str(x)+'\\n')\n",
    "# f.close()\n",
    "\n",
    "# print(len(df.ind.unique()))\n",
    "\n",
    "# df = pd.read_csv(ORIG_ADDR, skiprows = [0], usecols = ['ICount'], dtype = {'ICount':'str'})\n",
    "\n",
    "# df.head()\n",
    "\n",
    "# df.tail()\n",
    "\n",
    "# print(len(df.ICount.unique()))"
   ]
  },
  {
   "cell_type": "markdown",
   "metadata": {},
   "source": [
    "### Calculating Reuse Distance"
   ]
  },
  {
   "cell_type": "code",
   "execution_count": 73,
   "metadata": {},
   "outputs": [],
   "source": [
    "def create_label(x):\n",
    "    if(x<=1):\n",
    "        return 0\n",
    "    elif(x>1 and x<=2):\n",
    "        return 1\n",
    "    elif(x>2 and x<=4):\n",
    "        return 2\n",
    "    elif(x>4 and x<=8):\n",
    "        return 3\n",
    "    elif(x>8 and x<=16):\n",
    "        return 4\n",
    "    elif(x>16 and x<=32):\n",
    "        return 5\n",
    "    elif(x>32 and x<=64):\n",
    "        return 6\n",
    "    elif(x>64):\n",
    "        return 7"
   ]
  },
  {
   "cell_type": "code",
   "execution_count": null,
   "metadata": {},
   "outputs": [],
   "source": [
    "def preprocess(ADDR, curr_filename, cset, final_ADDR):\n",
    "    print(\"----starting---||\", curr_filename, \"||\",cset)\n",
    "    df = pd.read_csv(ADDR +str(curr_filename)+'_'+ str(cset)+'.csv')\n",
    "    m = defaultdict(list)\n",
    "        # Map : <Data val> : <indexes where it appears>\n",
    "    for ind, x in enumerate(df.Data.values):\n",
    "        m[x].append(ind)\n",
    "    rd_map = {}\n",
    "    for k in m.keys():\n",
    "        rds = np.diff(np.asarray(m[k]), append = sys.maxsize)\n",
    "        rds = np.where(rds>64, 65, rds)\n",
    "        rd_map.update(zip(m[k], rds))\n",
    "    df['rd'] = df.index.to_series().map(rd_map)\n",
    "    df.Data = df.Data.astype('int64')\n",
    "    df['delta'] = np.diff(df.Data.values, prepend = np.nan)\n",
    "    df['label'] = df.rd.map(create_label)\n",
    "    df.to_csv(final_ADDR+str(curr_filename)+'_'+str(cset)+'.csv')\n",
    "    print(\"------Done processing ->\", curr_filename, \" \", cset)"
   ]
  },
  {
   "cell_type": "code",
   "execution_count": 65,
   "metadata": {},
   "outputs": [],
   "source": [
    "set1 = [x for x in range(32)]\n",
    "set2 = [x for x in range(32, 64)]\n",
    "for curr_filename in addr_l:\n",
    "    thread1 = []\n",
    "    for cset in set1:\n",
    "        t = threading.Thread(target = preprocess, args = (ADDR, curr_filename, cset, final_ADDR))\n",
    "        thread1.append(t)\n",
    "        t.start()\n",
    "    for t in thread1:\n",
    "        t.join()\n",
    "        preprocess(ADDR, curr_filename, cset, final_ADDR)\n",
    "        \n",
    "    thread2 = []\n",
    "    for cset in set2:\n",
    "        t = threading.Thread(target = preprocess, args = (ADDR, curr_filename, cset, final_ADDR))\n",
    "        thread2.append(t)\n",
    "        t.start()\n",
    "    for t in thread2:\n",
    "        t.join()\n",
    "        preprocess(ADDR, curr_filename, cset, final_ADDR)\n",
    "        \n",
    "    print(\"----finished processing---->\", curr_filename)"
   ]
  },
  {
   "cell_type": "code",
   "execution_count": 68,
   "metadata": {},
   "outputs": [],
   "source": [
    "print(\"xxxxxxxxxxxxxx------its done\")"
   ]
  },
  {
   "cell_type": "code",
   "execution_count": null,
   "metadata": {},
   "outputs": [],
   "source": []
  }
 ],
 "metadata": {
  "kernelspec": {
   "display_name": "Python 3",
   "language": "python",
   "name": "python3"
  },
  "language_info": {
   "codemirror_mode": {
    "name": "ipython",
    "version": 3
   },
   "file_extension": ".py",
   "mimetype": "text/x-python",
   "name": "python",
   "nbconvert_exporter": "python",
   "pygments_lexer": "ipython3",
   "version": "3.5.2"
  }
 },
 "nbformat": 4,
 "nbformat_minor": 4
}
