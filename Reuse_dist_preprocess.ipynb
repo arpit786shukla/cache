{
 "cells": [
  {
   "cell_type": "code",
   "execution_count": 2,
   "metadata": {},
   "outputs": [],
   "source": [
    "import pandas as pd\n",
    "import numpy as np\n",
    "from collections import defaultdict \n",
    "import sys\n",
    "import os\n",
    "import matplotlib.pyplot as plt\n",
    "from tabulate import tabulate"
   ]
  },
  {
   "cell_type": "code",
   "execution_count": 48,
   "metadata": {},
   "outputs": [],
   "source": [
    "ADDR = '/nfs_home/nbhardwaj/data/set_data/400_'\n",
    "ORIG_ADDR = '/nfs_home/SPEC_2006/400.perlbench/400.perlbench.pinatrace.csv'\n",
    "final_ADDR = '/nfs_home/nbhardwaj/data/rds_data/400/'"
   ]
  },
  {
   "cell_type": "markdown",
   "metadata": {},
   "source": [
    "### Testing integrity of split files"
   ]
  },
  {
   "cell_type": "code",
   "execution_count": 25,
   "metadata": {},
   "outputs": [],
   "source": [
    "sets = [x for x in range(64)]\n",
    "f = open(ADDR+'test.csv', \"a+\")\n",
    "for curr_set in sets:\n",
    "    df = pd.read_csv(ADDR + str(curr_set)+'.csv')\n",
    "    for x in df.ICount.values:\n",
    "        f.write(str(x)+'\\n')\n",
    "f.close()"
   ]
  },
  {
   "cell_type": "code",
   "execution_count": 28,
   "metadata": {},
   "outputs": [
    {
     "name": "stdout",
     "output_type": "stream",
     "text": [
      "354799939\n"
     ]
    }
   ],
   "source": [
    "print(len(df.ind.unique()))"
   ]
  },
  {
   "cell_type": "code",
   "execution_count": 41,
   "metadata": {},
   "outputs": [],
   "source": [
    "df = pd.read_csv(ORIG_ADDR, skiprows = [0], usecols = ['ICount'], dtype = {'ICount':'str'})"
   ]
  },
  {
   "cell_type": "code",
   "execution_count": 52,
   "metadata": {},
   "outputs": [
    {
     "data": {
      "text/html": [
       "<div>\n",
       "<table border=\"1\" class=\"dataframe\">\n",
       "  <thead>\n",
       "    <tr style=\"text-align: right;\">\n",
       "      <th></th>\n",
       "      <th>ICount</th>\n",
       "    </tr>\n",
       "  </thead>\n",
       "  <tbody>\n",
       "    <tr>\n",
       "      <th>0</th>\n",
       "      <td>638310950169</td>\n",
       "    </tr>\n",
       "    <tr>\n",
       "      <th>1</th>\n",
       "      <td>638310950170</td>\n",
       "    </tr>\n",
       "    <tr>\n",
       "      <th>2</th>\n",
       "      <td>638310950172</td>\n",
       "    </tr>\n",
       "    <tr>\n",
       "      <th>3</th>\n",
       "      <td>638310950175</td>\n",
       "    </tr>\n",
       "    <tr>\n",
       "      <th>4</th>\n",
       "      <td>638310950177</td>\n",
       "    </tr>\n",
       "  </tbody>\n",
       "</table>\n",
       "</div>"
      ],
      "text/plain": [
       "         ICount\n",
       "0  638310950169\n",
       "1  638310950170\n",
       "2  638310950172\n",
       "3  638310950175\n",
       "4  638310950177"
      ]
     },
     "execution_count": 52,
     "metadata": {},
     "output_type": "execute_result"
    }
   ],
   "source": [
    "df.head()"
   ]
  },
  {
   "cell_type": "code",
   "execution_count": 53,
   "metadata": {},
   "outputs": [
    {
     "data": {
      "text/html": [
       "<div>\n",
       "<table border=\"1\" class=\"dataframe\">\n",
       "  <thead>\n",
       "    <tr style=\"text-align: right;\">\n",
       "      <th></th>\n",
       "      <th>ICount</th>\n",
       "    </tr>\n",
       "  </thead>\n",
       "  <tbody>\n",
       "    <tr>\n",
       "      <th>356213642</th>\n",
       "      <td>639310950158</td>\n",
       "    </tr>\n",
       "    <tr>\n",
       "      <th>356213643</th>\n",
       "      <td>639310950159</td>\n",
       "    </tr>\n",
       "    <tr>\n",
       "      <th>356213644</th>\n",
       "      <td>639310950161</td>\n",
       "    </tr>\n",
       "    <tr>\n",
       "      <th>356213645</th>\n",
       "      <td>639310950162</td>\n",
       "    </tr>\n",
       "    <tr>\n",
       "      <th>356213646</th>\n",
       "      <td>639310950166</td>\n",
       "    </tr>\n",
       "  </tbody>\n",
       "</table>\n",
       "</div>"
      ],
      "text/plain": [
       "                 ICount\n",
       "356213642  639310950158\n",
       "356213643  639310950159\n",
       "356213644  639310950161\n",
       "356213645  639310950162\n",
       "356213646  639310950166"
      ]
     },
     "execution_count": 53,
     "metadata": {},
     "output_type": "execute_result"
    }
   ],
   "source": [
    "df.tail()"
   ]
  },
  {
   "cell_type": "code",
   "execution_count": 49,
   "metadata": {},
   "outputs": [
    {
     "name": "stdout",
     "output_type": "stream",
     "text": [
      "354799938\n"
     ]
    }
   ],
   "source": [
    "print(len(df.ICount.unique()))"
   ]
  },
  {
   "cell_type": "markdown",
   "metadata": {},
   "source": [
    "### Calculating Reuse Distance"
   ]
  },
  {
   "cell_type": "code",
   "execution_count": 49,
   "metadata": {},
   "outputs": [],
   "source": [
    "sets = [x for x in range(64)]\n",
    "for cset in sets:\n",
    "    df = pd.read_csv(ADDR + str(cset)+'.csv')\n",
    "    m = defaultdict(list)\n",
    "    # Map : <Data val> : <indexes where it appears>\n",
    "    for ind, x in enumerate(df.Data.values):\n",
    "        m[x].append(ind)\n",
    "    rd_map = {}\n",
    "    for k in m.keys():\n",
    "        rds = np.diff(np.asarray(m[k]), append = sys.maxsize)\n",
    "        rds = np.where(rds>64, 65, rds)\n",
    "        rd_map.update(zip(m[k], rds))\n",
    "    df['rd'] = df.index.to_series().map(rd_map)\n",
    "    df.Data = df.Data.astype('int64')\n",
    "    df['delta'] = np.diff(df.Data.values, prepend = np.nan)\n",
    "    df.to_csv(ADDR + str(cset)+'.csv')"
   ]
  },
  {
   "cell_type": "code",
   "execution_count": 59,
   "metadata": {},
   "outputs": [
    {
     "data": {
      "text/plain": [
       "266937"
      ]
     },
     "execution_count": 59,
     "metadata": {},
     "output_type": "execute_result"
    }
   ],
   "source": [
    "# len(df)\n",
    "\n",
    "# df.head()\n",
    "\n",
    "# df.tail()\n",
    "\n",
    "# m = defaultdict(list)\n",
    "# # Map : <Data val> : <indexes where it appears>\n",
    "# for ind, x in enumerate(df.Data.values):\n",
    "#     m[x].append(ind)\n",
    "\n",
    "# rd_map = {}\n",
    "# for k in m.keys():\n",
    "#     rds = np.diff(np.asarray(m[k]), append = sys.maxsize)\n",
    "#     rds = np.where(rds>64, 65, rds)\n",
    "#     rd_map.update(zip(m[k], rds))\n",
    "\n",
    "# df['rd'] = df.index.to_series().map(rd_map)\n",
    "\n",
    "# df.Data = df.Data.astype('int64')\n",
    "\n",
    "# df['delta'] = np.diff(df.Data.values, prepend = np.nan)\n",
    "\n",
    "# df\n",
    "\n"
   ]
  }
 ],
 "metadata": {
  "kernelspec": {
   "display_name": "Python 3",
   "language": "python",
   "name": "python3"
  },
  "language_info": {
   "codemirror_mode": {
    "name": "ipython",
    "version": 3
   },
   "file_extension": ".py",
   "mimetype": "text/x-python",
   "name": "python",
   "nbconvert_exporter": "python",
   "pygments_lexer": "ipython3",
   "version": "3.5.2"
  }
 },
 "nbformat": 4,
 "nbformat_minor": 4
}
