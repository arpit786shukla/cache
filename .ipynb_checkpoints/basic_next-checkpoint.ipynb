{
 "cells": [
  {
   "cell_type": "code",
   "execution_count": 1,
   "metadata": {},
   "outputs": [],
   "source": [
    "import pandas as pd\n",
    "import numpy as np\n",
    "from collections import defaultdict \n",
    "import sys\n",
    "import os\n",
    "import matplotlib.pyplot as plt\n",
    "from matplotlib.pyplot import figure\n",
    "from tabulate import tabulate"
   ]
  },
  {
   "cell_type": "code",
   "execution_count": 2,
   "metadata": {},
   "outputs": [],
   "source": [
    "ADDR = '/nfs_home/nbhardwaj/data/rds_final/'\n",
    "RES_ADDR = '/nfs_home/nbhardwaj/results/'"
   ]
  },
  {
   "cell_type": "markdown",
   "metadata": {},
   "source": [
    "- Basic idea is to capture all x->y relations in sequences of instr/addresses. \n",
    "- Will capture same repetition, may not work for multiple such sub-sequences.\n",
    "- Won't be able to capture the drifting trends only the repetitions"
   ]
  },
  {
   "cell_type": "code",
   "execution_count": 4,
   "metadata": {},
   "outputs": [],
   "source": [
    "files = [510\n",
    "         , 511, 526, 600, 602, 620, 623, 625, 631, 641, 648, 657  ]\n",
    "\n",
    "sets = [x for x in range(64)]"
   ]
  },
  {
   "cell_type": "code",
   "execution_count": null,
   "metadata": {},
   "outputs": [],
   "source": [
    "# too slow 22m for 300M file\n",
    "\n",
    "# acc = []\n",
    "# len_ = []\n",
    "# for fname in files:\n",
    "#     for cset in sets:\n",
    "#         df = pd.read_csv(ADDR+str(fname)+'_'+str(cset)+'.csv', index_col = [0], usecols = [0,2,3])\n",
    "#         m = {}\n",
    "#         f, nf = 0, 0\n",
    "#         for i in range(len(df)):\n",
    "#             inst = df.iloc[i, 0]\n",
    "#             data = df.iloc[i, 1] \n",
    "#             if(inst in m.keys() and m[inst]==data):\n",
    "#                 f+=1\n",
    "#             else:\n",
    "#                 nf+=1\n",
    "#                 m[inst] = data\n",
    "#         print(\"___>\", cset, fname, f/(f+nf))\n",
    "#         acc.append(f*100/(f+nf))\n",
    "#         len_.append(len(df))\n",
    "        \n",
    "#     print(\"done for file->\", fname)\n",
    "#     df = pd.DataFrame(list(zip(acc, len_)), columns = ['accuracy', 'length'])\n",
    "#     df.to_csv(RES_ADDR+'base_next.csv')"
   ]
  },
  {
   "cell_type": "code",
   "execution_count": 34,
   "metadata": {},
   "outputs": [
    {
     "name": "stdout",
     "output_type": "stream",
     "text": [
      "___> 0 510 0.8941002814110532\n",
      "done for file-> 510\n"
     ]
    }
   ],
   "source": [
    "m = {}\n",
    "for fname in files:\n",
    "    acc = []\n",
    "    len_ = []\n",
    "    for cset in sets:\n",
    "        df = pd.read_csv(ADDR+str(fname)+'_'+str(cset)+'.csv', index_col = [0], usecols = [0,2,3])\n",
    "        df = df.sort_values(by = 'Instruction', kind = 'mergesort')\n",
    "        tots = len(df)\n",
    "        pos = len(df[df.Data == df.Data.shift(periods =1)])\n",
    "        print(\"___>\", cset, fname, pos/tots)\n",
    "        acc.append(pos*100/tots)\n",
    "        len_.append(tots)\n",
    "    m[fname] = np.dot(acc, len_)/np.sum(len_)\n",
    "    print(\"done for file->\", fname)\n",
    "np.save(RES_ADDR+'basic_next.npy', m)\n"
   ]
  },
  {
   "cell_type": "code",
   "execution_count": 36,
   "metadata": {},
   "outputs": [
    {
     "name": "stdout",
     "output_type": "stream",
     "text": [
      "{510: 89.41002814110533}\n"
     ]
    }
   ],
   "source": [
    "m = np.load(RES_ADDR+'basic_next.npy', allow_pickle = True).item()\n",
    "print(m)"
   ]
  },
  {
   "cell_type": "code",
   "execution_count": null,
   "metadata": {},
   "outputs": [],
   "source": []
  }
 ],
 "metadata": {
  "kernelspec": {
   "display_name": "Python 3",
   "language": "python",
   "name": "python3"
  },
  "language_info": {
   "codemirror_mode": {
    "name": "ipython",
    "version": 3
   },
   "file_extension": ".py",
   "mimetype": "text/x-python",
   "name": "python",
   "nbconvert_exporter": "python",
   "pygments_lexer": "ipython3",
   "version": "3.5.2"
  }
 },
 "nbformat": 4,
 "nbformat_minor": 4
}
