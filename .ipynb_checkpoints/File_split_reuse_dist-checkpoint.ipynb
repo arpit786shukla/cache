{
 "cells": [
  {
   "cell_type": "code",
   "execution_count": 1,
   "metadata": {},
   "outputs": [],
   "source": [
    "import pandas as pd\n",
    "import numpy as np\n",
    "from collections import defaultdict \n",
    "import sys\n",
    "import os\n",
    "import matplotlib.pyplot as plt\n",
    "from tabulate import tabulate"
   ]
  },
  {
   "cell_type": "code",
   "execution_count": null,
   "metadata": {},
   "outputs": [],
   "source": [
    "# ADDR = './401part.csv'\n",
    "\n",
    "# file name below also in os delete command\n",
    "\n",
    "ADDR = '/nfs_home/SPEC_2006/400.perlbench/400.perlbench.pinatrace.csv'\n",
    "final_ADDR = '/nfs_home/nbhardwaj/data/set_data/400'\n",
    "\n",
    "# df = pd.read_csv(ADDR, skiprows = [0], nrows = 10000)"
   ]
  },
  {
   "cell_type": "code",
   "execution_count": null,
   "metadata": {},
   "outputs": [],
   "source": []
  },
  {
   "cell_type": "code",
   "execution_count": null,
   "metadata": {},
   "outputs": [],
   "source": [
    "iter = 0\n",
    "for df in pd.read_csv(ADDR, skiprows = [0], chunksize = 100000000):\n",
    "    iter += 1\n",
    "    print(\"---------iters-------------->\", iter)\n",
    "    \n",
    "    df.rename(columns = {'Data':'hex_Data', 'Instruction':'hex_Instruction'}, inplace = True) \n",
    "\n",
    "#     df.drop('ICount', axis = 1, inplace = True)\n",
    "\n",
    "    print(\"No of lines before->\",len(df))\n",
    "    df = df.dropna()\n",
    "    print(\"No of lines after dropping nan\",len(df))\n",
    "\n",
    "    #Pre-processing\n",
    "    # HEX to INT\n",
    "    df['Instruction'] = df.hex_Instruction.apply(lambda x:int(x,16))\n",
    "\n",
    "\n",
    "    # Change to line No resolution, remove the offset data\n",
    "    df['Data'] = df.hex_Data.apply(lambda x:int(x, 16)//64)\n",
    "    print(\"done hex to int\")\n",
    "    # df['new_Data'] = df.Data.apply(lambda x: x//64)\n",
    "\n",
    "\n",
    "    # HEX to Binary with pre-padding till 64 spaces\n",
    "    df['set'] = df.hex_Instruction.apply(lambda x: int((bin(int(x, 16))[2:].zfill(64))[-12:-6], 2))\n",
    "    # df.reset_index(inplace = True, level = 'orig_idx')\n",
    "\n",
    "    # Least significant 7 to 12 bits represent the set\n",
    "    # df['set'] = df.bin_Data.apply(lambda x: int(x[-12:-6], 2))\n",
    "    print(\"done preprocessing\")\n",
    "\n",
    "    # Grouping values with the same set no\n",
    "    df.sort_values(by = 'set', inplace = True, kind = 'mergesort')\n",
    "    print(\"done sorting\")\n",
    "\n",
    "\n",
    "    for curr_set in df['set'].unique():\n",
    "        print(\"Processing for set->\", curr_set)\n",
    "        df_sub = df[df.set.eq(curr_set)][['ICount','Instruction','Data', 'Mode','set']]\n",
    "\n",
    "        # to allow chunk processing\n",
    "        if not os.path.isfile(final_ADDR+'_'+str(curr_set)+'.csv'):\n",
    "            df_sub.to_csv(final_ADDR+'_'+str(curr_set)+'.csv', index = False)\n",
    "        else:\n",
    "            df_sub.to_csv(final_ADDR+'_'+str(curr_set)+'.csv', mode = 'a', header = False, index = False)\n",
    "    #     break\n",
    "#     break"
   ]
  },
  {
   "cell_type": "code",
   "execution_count": null,
   "metadata": {},
   "outputs": [],
   "source": []
  },
  {
   "cell_type": "code",
   "execution_count": null,
   "metadata": {},
   "outputs": [],
   "source": []
  },
  {
   "cell_type": "code",
   "execution_count": null,
   "metadata": {},
   "outputs": [],
   "source": []
  },
  {
   "cell_type": "code",
   "execution_count": null,
   "metadata": {},
   "outputs": [],
   "source": []
  }
 ],
 "metadata": {
  "kernelspec": {
   "display_name": "Python 3",
   "language": "python",
   "name": "python3"
  },
  "language_info": {
   "codemirror_mode": {
    "name": "ipython",
    "version": 3
   },
   "file_extension": ".py",
   "mimetype": "text/x-python",
   "name": "python",
   "nbconvert_exporter": "python",
   "pygments_lexer": "ipython3",
   "version": "3.5.2"
  }
 },
 "nbformat": 4,
 "nbformat_minor": 4
}
