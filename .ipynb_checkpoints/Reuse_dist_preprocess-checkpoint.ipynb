{
 "cells": [
  {
   "cell_type": "code",
   "execution_count": 2,
   "metadata": {},
   "outputs": [],
   "source": [
    "import pandas as pd\n",
    "import numpy as np\n",
    "from collections import defaultdict \n",
    "import sys\n",
    "import os\n",
    "import matplotlib.pyplot as plt\n",
    "from tabulate import tabulate"
   ]
  },
  {
   "cell_type": "code",
   "execution_count": 48,
   "metadata": {},
   "outputs": [],
   "source": [
    "ADDR = '/nfs_home/nbhardwaj/data/set_data/400_'\n",
    "ORIG_ADDR = '/nfs_home/SPEC_2006/400.perlbench/400.perlbench.pinatrace.csv'\n",
    "final_ADDR = '/nfs_home/nbhardwaj/data/rds_data/400/'"
   ]
  },
  {
   "cell_type": "markdown",
   "metadata": {},
   "source": [
    "### Testing integrity of split files"
   ]
  },
  {
   "cell_type": "code",
   "execution_count": 25,
   "metadata": {},
   "outputs": [],
   "source": [
    "# sets = [x for x in range(64)]\n",
    "# f = open(ADDR+'test.csv', \"a+\")\n",
    "# for curr_set in sets:\n",
    "#     df = pd.read_csv(ADDR + str(curr_set)+'.csv')\n",
    "#     for x in df.ICount.values:\n",
    "#         f.write(str(x)+'\\n')\n",
    "# f.close()\n",
    "\n",
    "# print(len(df.ind.unique()))\n",
    "\n",
    "# df = pd.read_csv(ORIG_ADDR, skiprows = [0], usecols = ['ICount'], dtype = {'ICount':'str'})\n",
    "\n",
    "# df.head()\n",
    "\n",
    "# df.tail()\n",
    "\n",
    "# print(len(df.ICount.unique()))"
   ]
  },
  {
   "cell_type": "markdown",
   "metadata": {},
   "source": [
    "### Calculating Reuse Distance"
   ]
  },
  {
   "cell_type": "code",
   "execution_count": 73,
   "metadata": {},
   "outputs": [],
   "source": [
    "def create_label(x):\n",
    "    if(x<=1):\n",
    "        return 1\n",
    "    elif(x>1 and x<=2):\n",
    "        return 2\n",
    "    elif(x>2 and x<=4):\n",
    "        return 3\n",
    "    elif(x>4 and x<=8):\n",
    "        return 4\n",
    "    elif(x>8 and x<=16):\n",
    "        return 5\n",
    "    elif(x>16 and x<=32):\n",
    "        return 6\n",
    "    elif(x>32 and x<=64):\n",
    "        return 7\n",
    "    elif(x>64):\n",
    "        return 8"
   ]
  },
  {
   "cell_type": "code",
   "execution_count": 65,
   "metadata": {},
   "outputs": [],
   "source": [
    "sets = [x for x in range(64)]\n",
    "for cset in sets:\n",
    "    df = pd.read_csv(ADDR + str(cset)+'.csv')\n",
    "    m = defaultdict(list)\n",
    "        # Map : <Data val> : <indexes where it appears>\n",
    "    for ind, x in enumerate(df.Data.values):\n",
    "        m[x].append(ind)\n",
    "    rd_map = {}\n",
    "    for k in m.keys():\n",
    "        rds = np.diff(np.asarray(m[k]), append = sys.maxsize)\n",
    "        rds = np.where(rds>64, 65, rds)\n",
    "        rd_map.update(zip(m[k], rds))\n",
    "    df['rd'] = df.index.to_series().map(rd_map)\n",
    "    df.Data = df.Data.astype('int64')\n",
    "    df['delta'] = np.diff(df.Data.values, prepend = np.nan)\n",
    "    df['label'] = df.rd.map(create_label)\n",
    "    df.to_csv(final_ADDR+str(cset)+'.csv')\n",
    "    print(\"------Done processing set->\", cset)"
   ]
  },
  {
   "cell_type": "code",
   "execution_count": 68,
   "metadata": {},
   "outputs": [],
   "source": []
  },
  {
   "cell_type": "code",
   "execution_count": null,
   "metadata": {},
   "outputs": [],
   "source": []
  }
 ],
 "metadata": {
  "kernelspec": {
   "display_name": "Python 3",
   "language": "python",
   "name": "python3"
  },
  "language_info": {
   "codemirror_mode": {
    "name": "ipython",
    "version": 3
   },
   "file_extension": ".py",
   "mimetype": "text/x-python",
   "name": "python",
   "nbconvert_exporter": "python",
   "pygments_lexer": "ipython3",
   "version": "3.5.2"
  }
 },
 "nbformat": 4,
 "nbformat_minor": 4
}
