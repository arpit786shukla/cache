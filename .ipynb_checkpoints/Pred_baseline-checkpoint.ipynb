{
 "cells": [
  {
   "cell_type": "code",
   "execution_count": 53,
   "metadata": {},
   "outputs": [],
   "source": [
    "import pandas as pd\n",
    "import numpy as np\n",
    "from collections import defaultdict \n",
    "import sys\n",
    "import os\n",
    "import matplotlib.pyplot as plt\n",
    "import _thread as thread\n",
    "from tabulate import tabulate\n",
    "import threading\n",
    "import time"
   ]
  },
  {
   "cell_type": "code",
   "execution_count": 54,
   "metadata": {},
   "outputs": [],
   "source": [
    "# ADDR = './401part.csv'\n",
    "\n",
    "# file name below also in os delete command\n",
    "ADDR_LIST = [\n",
    "            '/nfs_home/matkade/pinplay/Pintool/SPEC_2017_ST_First_run/510.parest_r/510.parest_r.pinatrace.csv',\n",
    "            '/nfs_home/matkade/pinplay/Pintool/SPEC_2017_ST_First_run/511.povray_r/511.povray_r.pinatrace.csv',\n",
    "             '/nfs_home/matkade/pinplay/Pintool/SPEC_2017_ST_First_run/526.blender_r/526.blender_r.pinatrace.csv'\n",
    "             '/nfs_home/matkade/pinplay/Pintool/SPEC_2017_ST_First_run/600.perlbench_s/600.perlbench_s.pinatrace.csv',\n",
    "             '/nfs_home/matkade/pinplay/Pintool/SPEC_2017_ST_First_run/602.gcc_s/602.gcc_s.pinatrace.csv',\n",
    "            '/nfs_home/matkade/pinplay/Pintool/SPEC_2017_ST_First_run/605.mcf_s/605.mcf_s.pinatrace.csv',\n",
    "            '/nfs_home/matkade/pinplay/Pintool/SPEC_2017_ST_First_run/620.omnetpp_s/620.omnetpp_s.pinatrace.csv'\n",
    "            '/nfs_home/matkade/pinplay/Pintool/SPEC_2017_ST_First_run/623.xalancbmk_s/623.xalancbmk_s.pinatrace.csv',\n",
    "            '/nfs_home/matkade/pinplay/Pintool/SPEC_2017_ST_First_run/625.x264_s/625.x264_s.pinatrace.csv',\n",
    "            '/nfs_home/matkade/pinplay/Pintool/SPEC_2017_ST_First_run/631.deepsjeng_s/631.deepsjeng_s.pinatrace.csv',\n",
    "            '/nfs_home/matkade/pinplay/Pintool/SPEC_2017_ST_First_run/641.leela_s/641.leela_s.pinatrace.csv',\n",
    "            '/nfs_home/matkade/pinplay/Pintool/SPEC_2017_ST_First_run/648.exchange2_s/648.exchange2_s.pinatrace.csv',\n",
    "            '/nfs_home/matkade/pinplay/Pintool/SPEC_2017_ST_First_run/657.xz_s/657.xz_s.pinatrace.csv'\n",
    "            ]\n",
    "# ADDR = '/nfs_home/SPEC_2006/400.perlbench/400.perlbench.pinatrace.csv'\n",
    "final_ADDR = '/nfs_home/nbhardwaj/data/SPEC_final/'\n",
    "addr_l = [\n",
    "    510, 511, 526\n",
    "           600, 602, 605, \n",
    "    620,623, 625, 631, 641, 648, 657\n",
    "         ]\n",
    "# df = pd.read_csv(ADDR, skiprows = [0], nrows = 10000)"
   ]
  },
  {
   "cell_type": "code",
   "execution_count": 55,
   "metadata": {},
   "outputs": [
    {
     "name": "stdout",
     "output_type": "stream",
     "text": [
      "file location verified\n"
     ]
    }
   ],
   "source": [
    "# verify addresses \n",
    "for ADDR in ADDR_LIST:\n",
    "    if not os.path.isfile(ADDR):\n",
    "        print(\"xxxx|| file not found ||\"+str(ADDR))\n",
    "for ind, ADDR in enumerate(ADDR_LIST):\n",
    "    print(addr_l[ind], ADDR)\n",
    "print(\"file location verified\")"
   ]
  },
  {
   "cell_type": "code",
   "execution_count": 52,
   "metadata": {},
   "outputs": [],
   "source": [
    "def file_split(iaddr, ADDR, iters):\n",
    "    print(\"---------processing list----->\", ADDR)\n",
    "    for df in pd.read_csv(ADDR, skiprows = [0], usecols = ['ICount', 'Instruction', 'Mode', 'Data'],chunksize = 50000000):\n",
    "        iters += 1\n",
    "        print(\"--iters--------->\", iters, ADDR)\n",
    "\n",
    "        df.rename(columns = {'Data':'hex_Data', 'Instruction':'hex_Instruction'}, inplace = True) \n",
    "\n",
    "    #     df.drop('ICount', axis = 1, inplace = True)\n",
    "\n",
    "        print(\"No of lines before->\",len(df))\n",
    "        df = df.dropna()\n",
    "        print(\"No of lines after dropping nan\",len(df))\n",
    "\n",
    "        #Pre-processing\n",
    "        # HEX to INT\n",
    "        df['Instruction'] = df.hex_Instruction.apply(lambda x:int(x,16))\n",
    "\n",
    "\n",
    "        # Change to line No resolution, remove the offset data\n",
    "        df['Data'] = df.hex_Data.apply(lambda x:int(x, 16)//64)\n",
    "        print(\"done hex to int\")\n",
    "        # df['new_Data'] = df.Data.apply(lambda x: x//64)\n",
    "\n",
    "\n",
    "        # HEX to Binary with pre-padding till 64 spaces\n",
    "        df['set'] = df.hex_Data.apply(lambda x: int((bin(int(x, 16))[2:].zfill(64))[-12:-6], 2))\n",
    "        # df.reset_index(inplace = True, level = 'orig_idx')\n",
    "\n",
    "        # Least significant 7 to 12 bits represent the set\n",
    "        # df['set'] = df.bin_Data.apply(lambda x: int(x[-12:-6], 2))\n",
    "        print(\"done preprocessing\")\n",
    "\n",
    "        # Grouping values with the same set no\n",
    "        df.sort_values(by = 'set', inplace = True, kind = 'mergesort')\n",
    "        print(\"done sorting\")\n",
    "\n",
    "        for curr_set in df['set'].unique():\n",
    "            faddr = final_ADDR+str(addr_l[iaddr])+'_'+str(curr_set)+'.csv'\n",
    "            print(\"Processing for set->\", curr_set, ADDR)\n",
    "            df_sub = df[df.set.eq(curr_set)][['ICount','Instruction','Data', 'Mode','set']]\n",
    "    \n",
    "            # to allow chunk processing\n",
    "            if not os.path.isfile(faddr):\n",
    "                df_sub.to_csv(faddr, index = False)\n",
    "            else:\n",
    "                df_sub.to_csv(faddr, mode = 'a', header = False, index = False)"
   ]
  },
  {
   "cell_type": "code",
   "execution_count": 48,
   "metadata": {},
   "outputs": [
    {
     "name": "stdout",
     "output_type": "stream",
     "text": [
      "---in funs\n",
      "0 0 0\n",
      "---outta funs\n",
      "---in funs\n",
      "1 1 0\n",
      "---outta funs\n",
      "---in funs\n",
      "2 2 0\n",
      "---outta funs\n",
      "---in funs\n",
      "3 3 0\n",
      "---outta funs\n",
      "---in funs\n",
      "4 4 0\n",
      "---outta funs\n",
      "---in funs\n",
      "5 5 0\n",
      "---outta funs\n",
      "---in funs\n",
      "6 6 0\n",
      "---outta funs\n",
      "---in funs---in funs\n",
      "\n",
      "8 8 0\n",
      "---outta funs\n",
      "7 7 0\n",
      "---in funs\n",
      "9 9 0\n",
      "---outta funs\n",
      "---outta funs\n",
      "---in funs\n",
      "10 10 0\n",
      "---outta funs\n",
      "---in funs\n",
      "11 11 0\n",
      "---outta funs\n"
     ]
    }
   ],
   "source": [
    "threads = []\n",
    "iters = 0\n",
    "for iaddr, ADDR in enumerate(ADDR_LIST):\n",
    "    t = threading.Thread(target = file_split, args = (iaddr, ADDR, iters))\n",
    "    threads.append(t)\n",
    "    t.start()\n",
    "for t in threads:\n",
    "    t.join()\n",
    "    \n",
    "print(\"XXXXXXXXXXXX || DONE FILE SPLIT || XXXXXXXXXXXXXXXXXX\")\n",
    "print(ADDR_LIST)"
   ]
  },
  {
   "cell_type": "code",
   "execution_count": 39,
   "metadata": {},
   "outputs": [],
   "source": []
  },
  {
   "cell_type": "code",
   "execution_count": null,
   "metadata": {},
   "outputs": [],
   "source": []
  }
 ],
 "metadata": {
  "kernelspec": {
   "display_name": "Python 3",
   "language": "python",
   "name": "python3"
  },
  "language_info": {
   "codemirror_mode": {
    "name": "ipython",
    "version": 3
   },
   "file_extension": ".py",
   "mimetype": "text/x-python",
   "name": "python",
   "nbconvert_exporter": "python",
   "pygments_lexer": "ipython3",
   "version": "3.5.2"
  }
 },
 "nbformat": 4,
 "nbformat_minor": 4
}
