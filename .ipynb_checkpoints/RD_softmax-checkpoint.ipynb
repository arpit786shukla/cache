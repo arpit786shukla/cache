{
 "cells": [
  {
   "cell_type": "code",
   "execution_count": 1,
   "metadata": {},
   "outputs": [
    {
     "name": "stderr",
     "output_type": "stream",
     "text": [
      "Using TensorFlow backend.\n",
      "/nfs_home/nbhardwaj/.local/lib/python3.5/site-packages/tensorflow/python/framework/dtypes.py:516: FutureWarning: Passing (type, 1) or '1type' as a synonym of type is deprecated; in a future version of numpy, it will be understood as (type, (1,)) / '(1,)type'.\n",
      "  _np_qint8 = np.dtype([(\"qint8\", np.int8, 1)])\n",
      "/nfs_home/nbhardwaj/.local/lib/python3.5/site-packages/tensorflow/python/framework/dtypes.py:517: FutureWarning: Passing (type, 1) or '1type' as a synonym of type is deprecated; in a future version of numpy, it will be understood as (type, (1,)) / '(1,)type'.\n",
      "  _np_quint8 = np.dtype([(\"quint8\", np.uint8, 1)])\n",
      "/nfs_home/nbhardwaj/.local/lib/python3.5/site-packages/tensorflow/python/framework/dtypes.py:518: FutureWarning: Passing (type, 1) or '1type' as a synonym of type is deprecated; in a future version of numpy, it will be understood as (type, (1,)) / '(1,)type'.\n",
      "  _np_qint16 = np.dtype([(\"qint16\", np.int16, 1)])\n",
      "/nfs_home/nbhardwaj/.local/lib/python3.5/site-packages/tensorflow/python/framework/dtypes.py:519: FutureWarning: Passing (type, 1) or '1type' as a synonym of type is deprecated; in a future version of numpy, it will be understood as (type, (1,)) / '(1,)type'.\n",
      "  _np_quint16 = np.dtype([(\"quint16\", np.uint16, 1)])\n",
      "/nfs_home/nbhardwaj/.local/lib/python3.5/site-packages/tensorflow/python/framework/dtypes.py:520: FutureWarning: Passing (type, 1) or '1type' as a synonym of type is deprecated; in a future version of numpy, it will be understood as (type, (1,)) / '(1,)type'.\n",
      "  _np_qint32 = np.dtype([(\"qint32\", np.int32, 1)])\n",
      "/nfs_home/nbhardwaj/.local/lib/python3.5/site-packages/tensorflow/python/framework/dtypes.py:525: FutureWarning: Passing (type, 1) or '1type' as a synonym of type is deprecated; in a future version of numpy, it will be understood as (type, (1,)) / '(1,)type'.\n",
      "  np_resource = np.dtype([(\"resource\", np.ubyte, 1)])\n",
      "/nfs_home/nbhardwaj/.local/lib/python3.5/site-packages/tensorboard/compat/tensorflow_stub/dtypes.py:541: FutureWarning: Passing (type, 1) or '1type' as a synonym of type is deprecated; in a future version of numpy, it will be understood as (type, (1,)) / '(1,)type'.\n",
      "  _np_qint8 = np.dtype([(\"qint8\", np.int8, 1)])\n",
      "/nfs_home/nbhardwaj/.local/lib/python3.5/site-packages/tensorboard/compat/tensorflow_stub/dtypes.py:542: FutureWarning: Passing (type, 1) or '1type' as a synonym of type is deprecated; in a future version of numpy, it will be understood as (type, (1,)) / '(1,)type'.\n",
      "  _np_quint8 = np.dtype([(\"quint8\", np.uint8, 1)])\n",
      "/nfs_home/nbhardwaj/.local/lib/python3.5/site-packages/tensorboard/compat/tensorflow_stub/dtypes.py:543: FutureWarning: Passing (type, 1) or '1type' as a synonym of type is deprecated; in a future version of numpy, it will be understood as (type, (1,)) / '(1,)type'.\n",
      "  _np_qint16 = np.dtype([(\"qint16\", np.int16, 1)])\n",
      "/nfs_home/nbhardwaj/.local/lib/python3.5/site-packages/tensorboard/compat/tensorflow_stub/dtypes.py:544: FutureWarning: Passing (type, 1) or '1type' as a synonym of type is deprecated; in a future version of numpy, it will be understood as (type, (1,)) / '(1,)type'.\n",
      "  _np_quint16 = np.dtype([(\"quint16\", np.uint16, 1)])\n",
      "/nfs_home/nbhardwaj/.local/lib/python3.5/site-packages/tensorboard/compat/tensorflow_stub/dtypes.py:545: FutureWarning: Passing (type, 1) or '1type' as a synonym of type is deprecated; in a future version of numpy, it will be understood as (type, (1,)) / '(1,)type'.\n",
      "  _np_qint32 = np.dtype([(\"qint32\", np.int32, 1)])\n",
      "/nfs_home/nbhardwaj/.local/lib/python3.5/site-packages/tensorboard/compat/tensorflow_stub/dtypes.py:550: FutureWarning: Passing (type, 1) or '1type' as a synonym of type is deprecated; in a future version of numpy, it will be understood as (type, (1,)) / '(1,)type'.\n",
      "  np_resource = np.dtype([(\"resource\", np.ubyte, 1)])\n"
     ]
    }
   ],
   "source": [
    "import pandas as pd\n",
    "import numpy as np\n",
    "from collections import defaultdict \n",
    "import sys\n",
    "import os\n",
    "import matplotlib.pyplot as plt\n",
    "from tabulate import tabulate\n",
    "\n",
    "import keras \n",
    "from keras.models import Sequential, Model\n",
    "from keras.layers import Dense, Input, Dropout, Embedding, LSTM, Flatten\n",
    "from sklearn.preprocessing import OneHotEncoder, MinMaxScaler\n",
    "\n",
    "from keras.utils import to_categorical\n",
    "from keras.callbacks import ModelCheckpoint\n",
    "from sklearn.metrics import accuracy_score\n",
    "from sklearn.cross_validation import train_test_split\n",
    "from sklearn.linear_model import LogisticRegression\n",
    "import time"
   ]
  },
  {
   "cell_type": "code",
   "execution_count": 2,
   "metadata": {},
   "outputs": [
    {
     "name": "stdout",
     "output_type": "stream",
     "text": [
      "48\n"
     ]
    }
   ],
   "source": [
    "import multiprocessing\n",
    "print(multiprocessing.cpu_count())"
   ]
  },
  {
   "cell_type": "code",
   "execution_count": null,
   "metadata": {},
   "outputs": [],
   "source": []
  },
  {
   "cell_type": "code",
   "execution_count": 54,
   "metadata": {},
   "outputs": [],
   "source": [
    "ADDR = '/nfs_home/nbhardwaj/data/rds_final/'\n",
    "w_ADDR = '/nfs_home/nbhardwaj/results/'"
   ]
  },
  {
   "cell_type": "code",
   "execution_count": 55,
   "metadata": {},
   "outputs": [],
   "source": [
    "files = [510\n",
    "          , 511, 526, 600, 602, 620, 623, 625, 631, 641, 648, 657\n",
    "         ]\n",
    "sets = [\n",
    "    x for x in range(64)\n",
    "]\n"
   ]
  },
  {
   "cell_type": "code",
   "execution_count": 25,
   "metadata": {},
   "outputs": [
    {
     "name": "stdout",
     "output_type": "stream",
     "text": [
      "training acc-> 0.8657335617884206\n",
      "testing acc-> 0.8653927533572836\n",
      "finished in  35.78826689720154 s\n",
      "training acc-> 0.8718858019241388\n",
      "testing acc-> 0.8721133442916915\n",
      "finished in  32.17026090621948 s\n",
      "training acc-> 0.8723626327457293\n",
      "testing acc-> 0.8723337729202961\n",
      "finished in  35.05982995033264 s\n",
      "training acc-> 0.8701657930741317\n",
      "testing acc-> 0.8705058399880796\n",
      "finished in  40.70396113395691 s\n",
      "training acc-> 0.872891488011671\n",
      "testing acc-> 0.8727354210351975\n",
      "finished in  36.683682680130005 s\n",
      "training acc-> 0.8699847390446017\n",
      "testing acc-> 0.869768669449721\n",
      "finished in  35.72953796386719 s\n",
      "training acc-> 0.8708943545441299\n",
      "testing acc-> 0.8708690456452656\n",
      "finished in  39.88081336021423 s\n",
      "training acc-> 0.8693694778149601\n",
      "testing acc-> 0.8690974885147763\n",
      "finished in  34.841552734375 s\n",
      "training acc-> 0.8726427814099238\n",
      "testing acc-> 0.8726979366629496\n",
      "finished in  31.543829679489136 s\n",
      "training acc-> 0.874089223923322\n",
      "testing acc-> 0.8744168007795581\n",
      "finished in  38.01331853866577 s\n",
      "training acc-> 0.870740401298396\n",
      "testing acc-> 0.8707675857157011\n",
      "finished in  39.31467604637146 s\n",
      "training acc-> 0.8693997399063772\n",
      "testing acc-> 0.8697134100255001\n",
      "finished in  36.07725262641907 s\n",
      "training acc-> 0.8701770776671\n",
      "testing acc-> 0.8699276659317653\n",
      "finished in  31.803231477737427 s\n",
      "training acc-> 0.8712073452669286\n",
      "testing acc-> 0.8712323334831273\n",
      "finished in  37.56529998779297 s\n",
      "training acc-> 0.86055947275838\n",
      "testing acc-> 0.8603705461483958\n",
      "finished in  34.17063617706299 s\n",
      "training acc-> 0.822238898971866\n",
      "testing acc-> 0.8222871379045728\n",
      "finished in  46.55417227745056 s\n",
      "training acc-> 0.8371271308231885\n",
      "testing acc-> 0.8370181715852375\n",
      "finished in  32.417675256729126 s\n",
      "training acc-> 0.8691159110534447\n",
      "testing acc-> 0.8692040884414474\n",
      "finished in  38.87611484527588 s\n",
      "training acc-> 0.8739941275293249\n",
      "testing acc-> 0.8739903268791024\n",
      "finished in  31.31518292427063 s\n",
      "training acc-> 0.8734020353174827\n",
      "testing acc-> 0.8734292398877378\n",
      "finished in  36.57167387008667 s\n",
      "training acc-> 0.8717386926116574\n",
      "testing acc-> 0.8718705422825007\n",
      "finished in  33.874934911727905 s\n",
      "training acc-> 0.8700142538208846\n",
      "testing acc-> 0.8701376838634868\n",
      "finished in  33.733585596084595 s\n",
      "training acc-> 0.8729445683922891\n",
      "testing acc-> 0.8727069067703421\n",
      "finished in  37.7259247303009 s\n",
      "training acc-> 0.8696345315531889\n",
      "testing acc-> 0.8697753561469971\n",
      "finished in  43.75105881690979 s\n",
      "training acc-> 0.8718533631903489\n",
      "testing acc-> 0.871799148845773\n",
      "finished in  39.97453212738037 s\n",
      "training acc-> 0.8692033896158182\n",
      "testing acc-> 0.8690241927011345\n",
      "finished in  36.371756076812744 s\n",
      "training acc-> 0.8705954249745199\n",
      "testing acc-> 0.8708850579738253\n",
      "finished in  34.16853880882263 s\n",
      "training acc-> 0.8585841976442516\n",
      "testing acc-> 0.8587682291297407\n",
      "finished in  36.15579438209534 s\n",
      "training acc-> 0.8319695930687082\n",
      "testing acc-> 0.8321065802756414\n",
      "finished in  38.33568501472473 s\n",
      "training acc-> 0.8465274964294082\n",
      "testing acc-> 0.8463877834086292\n",
      "finished in  35.81778430938721 s\n",
      "training acc-> 0.8690167536768518\n",
      "testing acc-> 0.8695589276947235\n",
      "finished in  35.78300619125366 s\n",
      "training acc-> 0.8683056353092112\n",
      "testing acc-> 0.868574665905333\n",
      "finished in  34.9160521030426 s\n",
      "training acc-> 0.8694587231173451\n",
      "testing acc-> 0.8689371960016836\n",
      "finished in  38.71548557281494 s\n",
      "training acc-> 0.8702605809311384\n",
      "testing acc-> 0.8708092500737606\n",
      "finished in  32.39159178733826 s\n",
      "training acc-> 0.8704523902937252\n",
      "testing acc-> 0.8708926359741819\n",
      "finished in  36.04329204559326 s\n",
      "training acc-> 0.8728367342088508\n",
      "testing acc-> 0.8728804527704873\n",
      "finished in  42.974475383758545 s\n",
      "training acc-> 0.8722523004344434\n",
      "testing acc-> 0.8723846499527229\n",
      "finished in  33.53730654716492 s\n",
      "training acc-> 0.871730238917918\n",
      "testing acc-> 0.8720910763858264\n",
      "finished in  42.110905170440674 s\n",
      "training acc-> 0.8652876385771747\n",
      "testing acc-> 0.8654702989723316\n",
      "finished in  39.9880633354187 s\n",
      "training acc-> 0.8562429970696197\n",
      "testing acc-> 0.8561106180584969\n",
      "finished in  35.784544467926025 s\n",
      "training acc-> 0.8647746252093985\n",
      "testing acc-> 0.8651114313027023\n",
      "finished in  30.995094299316406 s\n",
      "training acc-> 0.8710909428850017\n",
      "testing acc-> 0.8708680670092045\n",
      "finished in  33.01949644088745 s\n",
      "training acc-> 0.8719542827024594\n",
      "testing acc-> 0.8723166908427308\n",
      "finished in  41.99756669998169 s\n",
      "training acc-> 0.8725030542020809\n",
      "testing acc-> 0.872510583096148\n",
      "finished in  44.339282512664795 s\n",
      "training acc-> 0.8685522041171336\n",
      "testing acc-> 0.8685901512874574\n",
      "finished in  32.284329414367676 s\n",
      "training acc-> 0.8384904488769914\n",
      "testing acc-> 0.8388249061938065\n",
      "finished in  34.765857219696045 s\n",
      "training acc-> 0.8432999686173053\n",
      "testing acc-> 0.842754102857688\n",
      "finished in  34.269965410232544 s\n",
      "training acc-> 0.8721404306895846\n",
      "testing acc-> 0.8725465653783442\n",
      "finished in  38.73049759864807 s\n",
      "training acc-> 0.8695628867432588\n",
      "testing acc-> 0.86970512097954\n",
      "finished in  34.75866627693176 s\n",
      "training acc-> 0.8706398434233689\n",
      "testing acc-> 0.8708339733905234\n",
      "finished in  34.14276933670044 s\n",
      "training acc-> 0.8706911635611219\n",
      "testing acc-> 0.8701971760094828\n",
      "finished in  32.13374042510986 s\n",
      "training acc-> 0.8653125806397624\n",
      "testing acc-> 0.8656688007398187\n",
      "finished in  35.71589422225952 s\n",
      "training acc-> 0.8554263742564644\n",
      "testing acc-> 0.8554489160153842\n",
      "finished in  38.84074330329895 s\n",
      "training acc-> 0.8651688421758785\n",
      "testing acc-> 0.8653429682624596\n",
      "finished in  42.798670053482056 s\n",
      "training acc-> 0.870406328765845\n",
      "testing acc-> 0.8701851254154052\n",
      "finished in  37.92084527015686 s\n",
      "training acc-> 0.8730535110145983\n",
      "testing acc-> 0.8734593507896312\n",
      "finished in  31.46897578239441 s\n",
      "training acc-> 0.8729942444733237\n",
      "testing acc-> 0.8725029037747571\n",
      "finished in  42.25581932067871 s\n",
      "training acc-> 0.8681484978617799\n",
      "testing acc-> 0.8682844899175509\n",
      "finished in  40.516725301742554 s\n",
      "training acc-> 0.850129980412813\n",
      "testing acc-> 0.8499714228420491\n",
      "finished in  35.49898076057434 s\n",
      "training acc-> 0.8547603452411053\n",
      "testing acc-> 0.8544259682614472\n",
      "finished in  39.29227256774902 s\n",
      "training acc-> 0.8680120158616507\n",
      "testing acc-> 0.8677441956537245\n",
      "finished in  37.257474184036255 s\n",
      "training acc-> 0.8721187853419072\n",
      "testing acc-> 0.8719388697295861\n",
      "finished in  37.605998277664185 s\n",
      "training acc-> 0.8729953441546482\n",
      "testing acc-> 0.873508882341162\n",
      "finished in  33.96216011047363 s\n",
      "training acc-> 0.8733261236004765\n",
      "testing acc-> 0.8729211374393409\n",
      "finished in  44.63611674308777 s\n",
      "DONE FOR FILE 510\n"
     ]
    }
   ],
   "source": [
    "df_m = pd.DataFrame(columns = ['fname', 'set', 'train_acc', 'test_acc', 'len'])\n",
    "\n",
    "for fname in files:\n",
    "    begin = time.time()\n",
    "    for cset in sets:\n",
    "        df = pd.read_csv(ADDR+str(fname)+'_'+str(cset)+'.csv', index_col = [0], usecols = [0, 2, 7, 8])\n",
    "        X = df[['delta']].values[1:]\n",
    "        y = df[['label']].values[1:].reshape((-1,))\n",
    "        X_train, X_test, y_train, y_test = train_test_split(X, y, test_size = 0.40, random_state = 42)\n",
    "        scaler = MinMaxScaler()\n",
    "        X_train = scaler.fit_transform(X_train)\n",
    "        X_test = scaler.transform(X_test)\n",
    "#         print(X_train[:5])\n",
    "        clf = LogisticRegression(random_state = 42, n_jobs = -1, solver = 'sag')\n",
    "        clf.fit(X_train, y_train)\n",
    "        tr_ac =  clf.score(X_train, y_train)\n",
    "        t_ac = clf.score(X_test, y_test)\n",
    "        df_m.loc[len(df_m)] = [fname, cset, tr_ac, t_ac, len(df)]\n",
    "    print(\"finished in \", time.time()-begin, \"s\")\n",
    "    print(\"DONE FOR FILE\", fname)\n",
    "df_m.to_csv(w_ADDR+'softmax.csv')\n",
    "print(\"-----------ITS DONEXX----------\")\n"
   ]
  },
  {
   "cell_type": "code",
   "execution_count": 43,
   "metadata": {},
   "outputs": [
    {
     "data": {
      "text/plain": [
       "[<matplotlib.lines.Line2D at 0x7f51041d1208>]"
      ]
     },
     "execution_count": 43,
     "metadata": {},
     "output_type": "execute_result"
    },
    {
     "data": {
      "image/png": "[encoded data removed]",
      "text/plain": [
       "<Figure size 432x288 with 1 Axes>"
      ]
     },
     "metadata": {
      "needs_background": "light"
     },
     "output_type": "display_data"
    }
   ],
   "source": [
    "# a = df.delta.values[1:1000]\n",
    "# plt.plot([x for x in range(len(a))], a)"
   ]
  },
  {
   "cell_type": "code",
   "execution_count": 51,
   "metadata": {},
   "outputs": [
    {
     "data": {
      "text/plain": [
       "array([5838805,   46882,   22011, ...,       1,       1,       1])"
      ]
     },
     "execution_count": 51,
     "metadata": {},
     "output_type": "execute_result"
    }
   ],
   "source": [
    "# d[::-1]"
   ]
  },
  {
   "cell_type": "code",
   "execution_count": 52,
   "metadata": {},
   "outputs": [],
   "source": [
    "# perc = []\n",
    "# tot = np.sum(d)\n",
    "# s = 0\n",
    "# for x in d[::-1]:\n",
    "#     s+=x\n",
    "#     perc.append(s/tot)"
   ]
  },
  {
   "cell_type": "code",
   "execution_count": 53,
   "metadata": {},
   "outputs": [
    {
     "data": {
      "text/plain": [
       "[<matplotlib.lines.Line2D at 0x7f5104130898>]"
      ]
     },
     "execution_count": 53,
     "metadata": {},
     "output_type": "execute_result"
    },
    {
     "data": {
      "image/png": "[encoded data removed]",
      "text/plain": [
       "<Figure size 432x288 with 1 Axes>"
      ]
     },
     "metadata": {
      "needs_background": "light"
     },
     "output_type": "display_data"
    }
   ],
   "source": [
    "# plt.plot(perc)"
   ]
  },
  {
   "cell_type": "code",
   "execution_count": 28,
   "metadata": {},
   "outputs": [],
   "source": [
    "# acc = np.dot(df_m['test_acc'], df_m['len'])"
   ]
  },
  {
   "cell_type": "code",
   "execution_count": 30,
   "metadata": {},
   "outputs": [
    {
     "name": "stdout",
     "output_type": "stream",
     "text": [
      "0.8660099817220901\n"
     ]
    }
   ],
   "source": [
    "# print(acc/np.sum(df_m['len']))"
   ]
  },
  {
   "cell_type": "code",
   "execution_count": null,
   "metadata": {},
   "outputs": [],
   "source": [
    "\n",
    "\n",
    "\n",
    "\n",
    "# begin = time.time()\n",
    "# X = df[['Instruction', 'delta', 'Mode']].values[1:]\n",
    "# y = df[['label']].values[1:]\n",
    "# X_train, X_test, y_train, y_test = train_test_split(X, y, test_size = 0.40, random_state = 42)\n",
    "# scaler = MinMaxScaler()\n",
    "# X_train = scaler.fit_transform(X_train)\n",
    "# X_test = scaler.transform(X_test)\n",
    "# print(X_train[:5])\n",
    "# clf = LogisticRegression(random_state = 42, n_jobs = -1, solver = 'sag').fit(X_train, y_train)\n",
    "# print(\"training acc->\", clf.score(X_train, y_train))\n",
    "# print(\"testing acc->\", clf.score(X_test, y_test))\n",
    "# print(\"finished in \", time.time()-begin, \"s\")\n",
    "# print(clf.coef_)\n",
    "# print(clf.intercept_)\n",
    "\n",
    "\n",
    "\n",
    "# begin = time.time()\n",
    "# X = df[['Instruction']].values[1:]\n",
    "# y = df[['label']].values[1:].reshape((-1,))\n",
    "# X_train, X_test, y_train, y_test = train_test_split(X, y, test_size = 0.40, random_state = 42)\n",
    "# scaler = MinMaxScaler()\n",
    "# X_train = scaler.fit_transform(X_train)\n",
    "# X_test = scaler.transform(X_test)\n",
    "# print(X_train[:5])\n",
    "# clf4 = LogisticRegression(random_state = 42, n_jobs = -1, solver = 'sag').fit(X_train, y_train)\n",
    "# clf4.fit(X_train, y_train)\n",
    "# print(\"training acc->\", clf4.score(X_train, y_train))\n",
    "# print(\"testing acc->\", clf4.score(X_test, y_test))\n",
    "# print(\"finished in \", time.time()-begin, \"s\")\n",
    "# print(clf4.coef_)\n",
    "# print(clf4.intercept_)\n",
    "\n",
    "# begin = time.time()\n",
    "# X = df[['delta']].values[1:]\n",
    "# y = df[['label']].values[1:]\n",
    "# X_train, X_test, y_train, y_test = train_test_split(X, y, test_size = 0.40, random_state = 42)\n",
    "# scaler = MinMaxScaler()\n",
    "# X_train = scaler.fit_transform(X_train)\n",
    "# X_test = scaler.transform(X_test)\n",
    "\n",
    "# clf5 = LogisticRegression(random_state = 42, n_jobs = -1, solver = 'sag')\n",
    "# clf5.fit(X_train, y_train)\n",
    "# print(\"training acc->\", clf5.score(X_train, y_train))\n",
    "# print(\"testing acc->\", clf5.score(X_test, y_test))\n",
    "# print(\"finished in \", time.time()-begin, \"s\")\n",
    "# print(clf5.coef_)\n",
    "# print(clf5.intercept_)\n",
    "\n",
    "# begin = time.time()\n",
    "# X = df[['Mode']].values[1:]\n",
    "# y = df[['label']].values[1:]\n",
    "# X_train, X_test, y_train, y_test = train_test_split(X, y, test_size = 0.40, random_state = 42)\n",
    "# scaler = MinMaxScaler()\n",
    "# X_train = scaler.fit_transform(X_train)\n",
    "# X_test = scaler.transform(X_test)\n",
    "# print(X_train[:5])\n",
    "# clf6 = LogisticRegression(random_state = 42, n_jobs = -1, solver = 'sag')\n",
    "# clf6.fit(X_train, y_train)\n",
    "# print(\"training acc->\", clf6.score(X_train, y_train))\n",
    "# print(\"testing acc->\", clf6.score(X_test, y_test))\n",
    "# print(\"finished in \", time.time()-begin, \"s\")\n",
    "# print(clf6.coef_)\n",
    "# print(clf6.intercept_)\n",
    "\n",
    "# begin = time.time()\n",
    "# X = df[['Data']].values[1:]\n",
    "# y = df[['label']].values[1:]\n",
    "# X_train, X_test, y_train, y_test = train_test_split(X, y, test_size = 0.40, random_state = 42)\n",
    "# # scaler = MinMaxScaler()\n",
    "# # X_train = scaler.fit_transform(X_train)\n",
    "# # X_test = scaler.transform(X_test)\n",
    "# print(X_train[:5])\n",
    "# clf7 = LogisticRegression(random_state = 42, n_jobs = -1, solver = 'sag')\n",
    "# clf7.fit(X_train, y_train)\n",
    "# print(\"training acc->\", clf7.score(X_train, y_train))\n",
    "# print(\"testing acc->\", clf7.score(X_test, y_test))\n",
    "# print(\"finished in \", time.time()-begin, \"s\")\n",
    "# print(clf7.coef_)\n",
    "# print(clf7.intercept_)\n",
    "\n",
    "\n",
    "\n",
    "\n",
    "\n",
    "\n",
    "\n",
    "\n",
    "\n",
    "\n",
    "\n",
    "\n",
    "\n",
    "# #### Log transformations\n",
    "\n",
    "\n",
    "\n",
    "# X = df[['Instruction', 'delta', 'Mode']].values[1:]\n",
    "# # X[:, 1] = np.log(X[:, 1])\n",
    "# y = df[['label']].values[1:]\n",
    "# X_train, X_test, y_train, y_test = train_test_split(X, y, test_size = 0.33, random_state = 42)\n",
    "\n",
    "# sign = np.where(X[:, 1]>0, 1, -1)\n",
    "# X[:, 1] = np.multiply(np.log(np.abs(X[:, 1])), sign)\n",
    "\n",
    "# scaler = MinMaxScaler()\n",
    "# X_train = scaler.fit_transform(X_train)\n",
    "# X_test = scaler.transform(X_test)\n",
    "\n",
    "# from sklearn.linear_model import LogisticRegression\n",
    "# clf = LogisticRegression(random_state = 0).fit(X_train, y_train)\n",
    "\n",
    "# clf.score(X_train, y_train)\n",
    "\n",
    "# clf.score(X_test, y_test)\n",
    "\n",
    "# No effect of Log transformations or random state change\n",
    "\n"
   ]
  }
 ],
 "metadata": {
  "kernelspec": {
   "display_name": "Python 2",
   "language": "python",
   "name": "python2"
  },
  "language_info": {
   "codemirror_mode": {
    "name": "ipython",
    "version": 3
   },
   "file_extension": ".py",
   "mimetype": "text/x-python",
   "name": "python",
   "nbconvert_exporter": "python",
   "pygments_lexer": "ipython3",
   "version": "3.5.2"
  }
 },
 "nbformat": 4,
 "nbformat_minor": 4
}
