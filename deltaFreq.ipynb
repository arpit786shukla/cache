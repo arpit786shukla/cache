{
 "cells": [
  {
   "cell_type": "code",
   "execution_count": 37,
   "metadata": {},
   "outputs": [],
   "source": [
    "import pandas as pd\n",
    "import numpy as np\n",
    "from collections import defaultdict \n",
    "import sys\n",
    "import os\n",
    "import matplotlib.pyplot as plt\n",
    "import _thread as thread\n",
    "from matplotlib.pyplot import figure\n",
    "from tabulate import tabulate\n",
    "import threading\n",
    "import time"
   ]
  },
  {
   "cell_type": "code",
   "execution_count": 14,
   "metadata": {},
   "outputs": [],
   "source": [
    "addr_l = [510\n",
    "          , 511, 526, 600, 602, 620, 623, 625, 631, 641, 648, 657\n",
    "         ] \n",
    "\n",
    "sets = [x for x in range(64)]\n",
    "# ADDR = '/nfs_home/nbhardwaj/data/rds_data/SPEC2017/'\n",
    "ADDR = '/nfs_home/nbhardwaj/data/rds_final/'\n",
    "w_ADDR = '/nfs_home/nbhardwaj/results/'"
   ]
  },
  {
   "cell_type": "code",
   "execution_count": 34,
   "metadata": {},
   "outputs": [
    {
     "name": "stdout",
     "output_type": "stream",
     "text": [
      "finished--> 510 || time passed-> 0.28768205642700195 seconds\n",
      "finished--> 511 || time passed-> 0.2913057804107666 seconds\n",
      "finished--> 526 || time passed-> 0.28650784492492676 seconds\n",
      "finished--> 600 || time passed-> 0.3425259590148926 seconds\n",
      "finished--> 602 || time passed-> 0.3313298225402832 seconds\n",
      "finished--> 620 || time passed-> 0.3235170841217041 seconds\n",
      "finished--> 623 || time passed-> 0.3055591583251953 seconds\n",
      "finished--> 625 || time passed-> 0.32311558723449707 seconds\n",
      "finished--> 631 || time passed-> 0.3236989974975586 seconds\n",
      "finished--> 641 || time passed-> 0.31602907180786133 seconds\n",
      "finished--> 648 || time passed-> 0.3265373706817627 seconds\n",
      "finished--> 657 || time passed-> 0.34395337104797363 seconds\n",
      "XX || Its DONE || XX\n"
     ]
    }
   ],
   "source": [
    "# instr maps\n",
    "# m = defaultdict(list)\n",
    "# fm = defaultdict(list)\n",
    "\n",
    "# #data maps\n",
    "# m2 = defaultdict(list)\n",
    "# fm2 = defaultdict(list)\n",
    "m3 = {}\n",
    "# s_inst = defaultdict(set) # unique instr across sets 0-63\n",
    "# u_inst = defaultdict(list) # unique instr in a file and set\n",
    "# f_inst = defaultdict(list) # unique instr in a file\n",
    "for fname in addr_l:\n",
    "    begin = time.time()\n",
    "    for cset in sets:\n",
    "        cADDR = ADDR+str(fname)+'_'+str(cset)+'.csv'\n",
    "        df = pd.read_csv(cADDR,usecols = ['delta'])\n",
    "        udelta, counts = np.unique(df.delta.values, return_counts = True)\n",
    "        for idx in range(len(udelta)):\n",
    "            val = udelta[idx]\n",
    "            cnt = counts[idx]\n",
    "            if(m3.get(val) != None):\n",
    "                m3[val][fname]+=cnt\n",
    "            else:\n",
    "                m3[val] = {}\n",
    "                m3[val].update(zip(addr_l, np.zeros((len(addr_l)))))\n",
    "                m3[val][fname] = cnt\n",
    "    print(\"finished-->\", fname, \"|| time passed->\",time.time()-begin, \"seconds\")\n",
    "np.save(w_ADDR+'m_delta.npy', m3)\n",
    "# np.save(w_ADDR+'m2.npy', m2)\n",
    "# np.save(RES_ADDR+'fm.npy', fm)\n",
    "# np.save(RES_ADDR+'fm2.npy', fm2)\n",
    "print(\"XX || Its DONE || XX\")"
   ]
  },
  {
   "cell_type": "code",
   "execution_count": 16,
   "metadata": {},
   "outputs": [],
   "source": [
    "# m = np.load(w_ADDR+'m.npy', allow_pickle = True).item()\n",
    "# m2 = np.load(w_ADDR+'m2.npy', allow_pickle = True).item()\n",
    "# fm = np.load(w_ADDR+'fm.npy', allow_pickle = True).item()\n",
    "# fm2 = np.load(w_ADDR+'fm2.npy', allow_pickle = True).item()"
   ]
  },
  {
   "cell_type": "code",
   "execution_count": 38,
   "metadata": {},
   "outputs": [],
   "source": [
    "m3 = np.load(w_ADDR+'m_delta.npy', allow_pickle = True).item()\n"
   ]
  },
  {
   "cell_type": "code",
   "execution_count": 49,
   "metadata": {},
   "outputs": [],
   "source": [
    "m4 = {}\n",
    "for x in m3.keys():\n",
    "    if(x!=np.nan):\n",
    "        m4[x] = np.sum(np.fromiter(m3[x].values(), dtype = float))"
   ]
  },
  {
   "cell_type": "code",
   "execution_count": 56,
   "metadata": {},
   "outputs": [],
   "source": [
    "m5 = sorted(m4.items(), key = lambda x:x[1], reverse = True)"
   ]
  },
  {
   "cell_type": "code",
   "execution_count": 68,
   "metadata": {},
   "outputs": [
    {
     "data": {
      "text/plain": [
       "(0.0, 4443442851.0)"
      ]
     },
     "execution_count": 68,
     "metadata": {},
     "output_type": "execute_result"
    }
   ],
   "source": [
    "m5[0][:]"
   ]
  },
  {
   "cell_type": "code",
   "execution_count": 63,
   "metadata": {},
   "outputs": [
    {
     "ename": "TypeError",
     "evalue": "list indices must be integers or slices, not tuple",
     "output_type": "error",
     "traceback": [
      "\u001b[0;31m---------------------------------------------------------------------------\u001b[0m",
      "\u001b[0;31mTypeError\u001b[0m                                 Traceback (most recent call last)",
      "\u001b[0;32m<ipython-input-63-a0c529c1fc1a>\u001b[0m in \u001b[0;36m<module>\u001b[0;34m\u001b[0m\n\u001b[0;32m----> 1\u001b[0;31m \u001b[0mm5\u001b[0m\u001b[0;34m[\u001b[0m\u001b[0;36m0\u001b[0m\u001b[0;34m,\u001b[0m \u001b[0;34m:\u001b[0m\u001b[0;34m]\u001b[0m\u001b[0;34m\u001b[0m\u001b[0m\n\u001b[0m",
      "\u001b[0;31mTypeError\u001b[0m: list indices must be integers or slices, not tuple"
     ]
    }
   ],
   "source": []
  },
  {
   "cell_type": "code",
   "execution_count": 101,
   "metadata": {},
   "outputs": [
    {
     "name": "stdout",
     "output_type": "stream",
     "text": [
      "finished--> 510 || 319.0733940601349 secs\n",
      "finished--> 511 || 521.0964343547821 secs\n",
      "finished--> 526 || 377.2168593406677 secs\n",
      "finished--> 600 || 329.70164728164673 secs\n",
      "finished--> 602 || 495.89092803001404 secs\n",
      "finished--> 620 || 691.9009749889374 secs\n",
      "finished--> 623 || 540.9830358028412 secs\n",
      "finished--> 625 || 342.83169865608215 secs\n",
      "finished--> 631 || 440.5755727291107 secs\n",
      "finished--> 641 || 380.2313504219055 secs\n",
      "finished--> 648 || 587.0871863365173 secs\n",
      "finished--> 657 || 359.1061851978302 secs\n"
     ]
    }
   ],
   "source": [
    "# mdelta = defaultdict(list) # global unique delta\n",
    "# s_delta = defaultdict(set) # unique delta across sets 0-63\n",
    "# fs_delta = defaultdict(list) # unique delta in a file and set\n",
    "# f_delta = defaultdict(list) # unique delta in a file\n",
    "# freq_delta = {}\n",
    "# for fname in addr_l:\n",
    "#     p = set()\n",
    "#     start_time = time.time()\n",
    "#     for cset in sets:\n",
    "#         cADDR = ADDR+str(fname)+'_'+str(cset)+'.csv'\n",
    "#         df = pd.read_csv(cADDR, usecols = ['delta'])\n",
    "#         delta_unique = df.delta.unique()\n",
    "#         fs_delta[str(fname)+'_'+str(cset)] = len(delta_unique)\n",
    "#         for d in delta_unique:\n",
    "#             s_delta[cset].add(d)\n",
    "#             p.add(d)\n",
    "#             mdelta[d].append(str(fname)+'_'+str(cset)) \n",
    "#         for d in df.delta:\n",
    "#             if(d in freq_delta.keys()):\n",
    "#                 freq_delta[d]+=1\n",
    "#             else:\n",
    "#                 freq_delta[d] = 1\n",
    "# #         print(\"done ->\", cset)\n",
    "#     f_delta[fname] = len(p)\n",
    "#     end_time = time.time()\n",
    "#     print(\"finished-->\", fname, \"||\",end_time - start_time, \"secs\")\n"
   ]
  },
  {
   "cell_type": "code",
   "execution_count": 110,
   "metadata": {},
   "outputs": [],
   "source": [
    "# a = sorted(freq_delta.items(), key = lambda x:x[1], reverse = True)"
   ]
  },
  {
   "cell_type": "code",
   "execution_count": 140,
   "metadata": {},
   "outputs": [
    {
     "data": {
      "image/png": "[encoded data removed]",
      "text/plain": [
       "<Figure size 432x288 with 1 Axes>"
      ]
     },
     "metadata": {
      "needs_background": "light"
     },
     "output_type": "display_data"
    },
    {
     "data": {
      "text/plain": [
       "<Figure size 432x288 with 0 Axes>"
      ]
     },
     "metadata": {},
     "output_type": "display_data"
    }
   ],
   "source": [
    "# plt.plot([x for x in range(len(b))], np.log10(b))\n",
    "# plt.xlabel('# unique addresses')\n",
    "# plt.ylabel('log10 frequency')\n",
    "# plt.show()\n",
    "# plt.savefig('graphs/freqVSAddr')"
   ]
  },
  {
   "cell_type": "code",
   "execution_count": 151,
   "metadata": {},
   "outputs": [],
   "source": [
    "# fname = '510'\n",
    "# cset = '10'\n",
    "# cADDR = ADDR+str(fname)+'_'+str(cset)+'.csv'\n",
    "# df = pd.read_csv(cADDR)\n",
    "\n",
    "# df['log_Data'] = np.log10(df.Data)\n",
    "\n",
    "\n",
    "# ld = df.log_Data\n",
    "# figure(figsize = (15, 1))\n",
    "# plt.plot([x for x in range(len(ld))], ld)"
   ]
  },
  {
   "cell_type": "code",
   "execution_count": null,
   "metadata": {},
   "outputs": [],
   "source": []
  }
 ],
 "metadata": {
  "kernelspec": {
   "display_name": "Python 3",
   "language": "python",
   "name": "python3"
  },
  "language_info": {
   "codemirror_mode": {
    "name": "ipython",
    "version": 3
   },
   "file_extension": ".py",
   "mimetype": "text/x-python",
   "name": "python",
   "nbconvert_exporter": "python",
   "pygments_lexer": "ipython3",
   "version": "3.5.2"
  }
 },
 "nbformat": 4,
 "nbformat_minor": 4
}
