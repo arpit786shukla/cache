{
 "cells": [
  {
   "cell_type": "code",
   "execution_count": 27,
   "metadata": {},
   "outputs": [],
   "source": [
    "import pandas as pd\n",
    "import numpy as np\n",
    "from collections import defaultdict \n",
    "import sys\n",
    "import os\n",
    "import matplotlib.pyplot as plt\n",
    "from matplotlib.pyplot import figure\n",
    "from tabulate import tabulate"
   ]
  },
  {
   "cell_type": "code",
   "execution_count": 24,
   "metadata": {},
   "outputs": [],
   "source": [
    "ADDR = '/nfs_home/nbhardwaj/data/rds_final/'\n",
    "RES_ADDR = '/nfs_home/nbhardwaj/results/baseline_RD/'"
   ]
  },
  {
   "cell_type": "markdown",
   "metadata": {},
   "source": [
    "- for a given address, we predict the same RD value as the last time"
   ]
  },
  {
   "cell_type": "code",
   "execution_count": 25,
   "metadata": {},
   "outputs": [],
   "source": [
    "files = [510\n",
    "         , 511, 526, 600, 602, 620, 623, 625, 631, 641, 648, 657  \n",
    "        ]\n",
    "\n",
    "sets = [x for x in range(64)]\n",
    "# sets = [0]"
   ]
  },
  {
   "cell_type": "code",
   "execution_count": null,
   "metadata": {},
   "outputs": [],
   "source": [
    "# too slow 22m for 300M file\n",
    "\n",
    "# acc = []\n",
    "# len_ = []\n",
    "# for fname in files:\n",
    "#     for cset in sets:\n",
    "#         df = pd.read_csv(ADDR+str(fname)+'_'+str(cset)+'.csv', index_col = [0], usecols = [0,2,3])\n",
    "#         m = {}\n",
    "#         f, nf = 0, 0\n",
    "#         for i in range(len(df)):\n",
    "#             inst = df.iloc[i, 0]\n",
    "#             data = df.iloc[i, 1] \n",
    "#             if(inst in m.keys() and m[inst]==data):\n",
    "#                 f+=1\n",
    "#             else:\n",
    "#                 nf+=1\n",
    "#                 m[inst] = data\n",
    "#         print(\"___>\", cset, fname, f/(f+nf))\n",
    "#         acc.append(f*100/(f+nf))\n",
    "#         len_.append(len(df))\n",
    "        \n",
    "#     print(\"done for file->\", fname)\n",
    "#     df = pd.DataFrame(list(zip(acc, len_)), columns = ['accuracy', 'length'])\n",
    "#     df.to_csv(RES_ADDR+'base_next.csv')"
   ]
  },
  {
   "cell_type": "code",
   "execution_count": null,
   "metadata": {},
   "outputs": [],
   "source": [
    "m = {}\n",
    "for fname in files:\n",
    "    acc = []\n",
    "    len_ = []\n",
    "    for cset in sets:\n",
    "        df = pd.read_csv(ADDR+str(fname)+'_'+str(cset)+'.csv', index_col = [0], usecols = [0,3,8])\n",
    "        df = df.sort_values(by = 'Data', kind = 'mergesort')\n",
    "        tots = len(df)\n",
    "        pos = len(df[df.label == df.label.shift(periods =1)])\n",
    "        print(\"___>\", cset, fname, pos/tots)\n",
    "        acc.append(pos*100/tots)\n",
    "        len_.append(tots)\n",
    "    m[fname] = np.dot(acc, len_)/np.sum(len_)\n",
    "    print(\"done for file->\", fname)\n",
    "print(\"all doneXXX\")"
   ]
  },
  {
   "cell_type": "code",
   "execution_count": 28,
   "metadata": {},
   "outputs": [
    {
     "name": "stdout",
     "output_type": "stream",
     "text": [
      "{}\n"
     ]
    }
   ],
   "source": [
    "print(m)"
   ]
  },
  {
   "cell_type": "code",
   "execution_count": null,
   "metadata": {},
   "outputs": [],
   "source": [
    "np.save(RES_ADDR+'addr_RD_baseline.npy', m)"
   ]
  },
  {
   "cell_type": "code",
   "execution_count": 29,
   "metadata": {},
   "outputs": [
    {
     "name": "stdout",
     "output_type": "stream",
     "text": [
      "{641: 87.77553567775553, 657: 80.41510709080387, 648: 89.71508122563274, 620: 70.89914954370671, 526: 83.63487204435636, 623: 78.53198288123359, 625: 94.22659326565504, 631: 84.59585927821486, 600: 74.83948946569507, 602: 79.96710842454911, 510: 77.47287102924612, 511: 80.25161316477254}\n"
     ]
    }
   ],
   "source": [
    "m = np.load(RES_ADDR+'addr_RD_baseline.npy', allow_pickle = True).item()\n",
    "print(m)"
   ]
  },
  {
   "cell_type": "code",
   "execution_count": 31,
   "metadata": {},
   "outputs": [],
   "source": [
    "from collections import OrderedDict\n",
    "m = OrderedDict((sorted(m.items())))"
   ]
  },
  {
   "cell_type": "code",
   "execution_count": 36,
   "metadata": {},
   "outputs": [
    {
     "data": {
      "image/png": "[encoded data removed]",
      "text/plain": [
       "<Figure size 432x288 with 1 Axes>"
      ]
     },
     "metadata": {},
     "output_type": "display_data"
    }
   ],
   "source": [
    "import seaborn as sns\n",
    "sns.set()\n",
    "plt.bar(range(len(m)), list(m.values()), align = 'center')\n",
    "plt.xticks(range(len(m)), list(m.keys()))\n",
    "plt.ylim((60, 100))\n",
    "plt.xlabel('Benchmarks')\n",
    "plt.ylabel('Accuracy(%)')\n",
    "plt.title('Naive Baseline')\n",
    "plt.show()\n",
    "\n"
   ]
  },
  {
   "cell_type": "code",
   "execution_count": null,
   "metadata": {},
   "outputs": [],
   "source": []
  },
  {
   "cell_type": "code",
   "execution_count": null,
   "metadata": {},
   "outputs": [],
   "source": []
  },
  {
   "cell_type": "code",
   "execution_count": null,
   "metadata": {},
   "outputs": [],
   "source": []
  },
  {
   "cell_type": "code",
   "execution_count": null,
   "metadata": {},
   "outputs": [],
   "source": []
  },
  {
   "cell_type": "code",
   "execution_count": 17,
   "metadata": {},
   "outputs": [],
   "source": [
    "# np.save(RES_ADDR+'baseline_RD_acc.npy', m)\n",
    "# np.save(RES_ADDR+'unique_inst.npy', m_inst)\n",
    "# print(m)\n",
    "# print(m_inst)"
   ]
  },
  {
   "cell_type": "code",
   "execution_count": 37,
   "metadata": {},
   "outputs": [
    {
     "name": "stdout",
     "output_type": "stream",
     "text": [
      "{641: 97.48103195534459, 657: 93.48021202751076, 648: 99.99947895342746, 620: 80.78997939155008, 526: 86.02273457042128, 623: 97.13850539228334, 625: 92.78825277694624, 631: 97.043130945078, 600: 98.18742323669089, 602: 87.63799835793077, 510: 89.23382985472584, 511: 96.48587043492564}\n"
     ]
    }
   ],
   "source": [
    "# m = np.load(RES_ADDR+'basic_next.npy', allow_pickle = True).item()\n",
    "# print(m)"
   ]
  },
  {
   "cell_type": "code",
   "execution_count": 15,
   "metadata": {},
   "outputs": [
    {
     "data": {
      "text/plain": [
       "array([        4247723,         4247737,         4248195,         4248232,\n",
       "               4248240,         4784699,         4789742,         4789756,\n",
       "               4789961,         4790034,         4790222,         5048593,\n",
       "               5048605,         5048609,         5262102,         5262109,\n",
       "               5262116,         5262155,         5262159,         5262163,\n",
       "               7842193,         7842240,         7842265,         7842271,\n",
       "               7842290,         7842298,         8600999,         8601059,\n",
       "               8601072,         8601080,         8601112,         8601122,\n",
       "               8601127,         8601138,         8601148,         8601216,\n",
       "               8601229,         8601256,         8601266,         8601271,\n",
       "               8601282,         8601295,         8601308,         8601314,\n",
       "               8601320,         8668207,         8668221,         8668244,\n",
       "               8668251,         8668256,         8668295,         8668427,\n",
       "               8668431,         8668464,         8668468,         8668484,\n",
       "               8668488,         8668493,         8668591,         8668628,\n",
       "               8668635,         8668640,         8668679,         8668685,\n",
       "               8668764,         8668768,         8668800,         8668805,\n",
       "               8668820,         8668825,         8668830,         8934797,\n",
       "               8934892,         8935248,         8935255,         8935280,\n",
       "               8943141,         8943148,         8943158,         8943168,\n",
       "               8943173,         8943280,         8943320,         8943329,\n",
       "               9257329,         9257338,         9257343,         9257488,\n",
       "               9257496,         9257673,         9257704,         9257707,\n",
       "               9257712,         9257716,         9257732,         9257745,\n",
       "               9257768,         9257773,         9257779,         9257806,\n",
       "               9257821,         9257852,         9257855,         9257859,\n",
       "               9257875,         9257888,         9257893,         9257912,\n",
       "               9257917,         9257923,         9257955,         9257963,\n",
       "               9257974,         9257979,         9258000,         9258008,\n",
       "               9258048,         9258058,         9258077,         9258087,\n",
       "               9258110,         9258127,         9258205,         9258209,\n",
       "               9258213,         9258221,         9258225,         9258232,\n",
       "               9258237,         9258241,         9258264,         9258268,\n",
       "               9258273,         9258286,         9258315,         9258327,\n",
       "               9258348,         9260547,         9260558,         9260632,\n",
       "               9260655,         9260661,         9260681,         9260686,\n",
       "               9260692, 139921879485800, 139921879486144, 139921879487536,\n",
       "       139921879493875, 139921879493880, 139921879493891, 139921879493896,\n",
       "       139921879493903, 139921879493915, 139921879493931, 139921879493935,\n",
       "       139921879493951, 139921879493972, 139921879493984, 139921880329334,\n",
       "       139921880330277, 139921880330282, 139921880480184, 139921880480189,\n",
       "       139921880480194, 139921880480199, 139921880480204, 139921880480209,\n",
       "       139921880480214, 139921880480219, 139921880480224, 139921880480414,\n",
       "       139921880480435, 139921880480449, 139921880480504, 139921883005397,\n",
       "       139921888959056, 139921888981684, 139921888981688, 139921889050841,\n",
       "       139921889150897, 139921889460740, 139921889463155, 139921889504801,\n",
       "       139921889504811, 139921889504824, 139921889506767, 139921889506781,\n",
       "       139921889507423, 139921889507431, 139921889507439, 139921889507443,\n",
       "       139921889507452, 139921889507462, 139921889508150, 139921889508157,\n",
       "       139921889508708, 139921889508915, 139921889509040, 139921889509056,\n",
       "       139921889509065, 139921889510921, 139921889511097, 139921889513264,\n",
       "       139921889513444, 139921889527767, 139921889527771, 139921889527775,\n",
       "       139921889527824, 139921889528655, 139921889528659, 139921889528663,\n",
       "       139921889570320, 139921889570325, 139921889570395])"
      ]
     },
     "execution_count": 15,
     "metadata": {},
     "output_type": "execute_result"
    }
   ],
   "source": [
    "# df.Instruction.unique()"
   ]
  },
  {
   "cell_type": "code",
   "execution_count": 38,
   "metadata": {},
   "outputs": [
    {
     "name": "stdout",
     "output_type": "stream",
     "text": [
      "641 \t 97.48103195534459\n",
      "657 \t 93.48021202751076\n",
      "648 \t 99.99947895342746\n",
      "620 \t 80.78997939155008\n",
      "526 \t 86.02273457042128\n",
      "623 \t 97.13850539228334\n",
      "625 \t 92.78825277694624\n",
      "631 \t 97.043130945078\n",
      "600 \t 98.18742323669089\n",
      "602 \t 87.63799835793077\n",
      "510 \t 89.23382985472584\n",
      "511 \t 96.48587043492564\n"
     ]
    }
   ],
   "source": [
    "# for x in m.keys():\n",
    "#     print(x, \"\\t\", m[x])"
   ]
  },
  {
   "cell_type": "code",
   "execution_count": null,
   "metadata": {},
   "outputs": [],
   "source": []
  }
 ],
 "metadata": {
  "kernelspec": {
   "display_name": "Python 3",
   "language": "python",
   "name": "python3"
  },
  "language_info": {
   "codemirror_mode": {
    "name": "ipython",
    "version": 3
   },
   "file_extension": ".py",
   "mimetype": "text/x-python",
   "name": "python",
   "nbconvert_exporter": "python",
   "pygments_lexer": "ipython3",
   "version": "3.5.2"
  }
 },
 "nbformat": 4,
 "nbformat_minor": 4
}
