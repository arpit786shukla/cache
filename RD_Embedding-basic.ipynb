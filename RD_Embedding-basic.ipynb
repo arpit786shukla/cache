{
 "cells": [
  {
   "cell_type": "code",
   "execution_count": 16,
   "metadata": {},
   "outputs": [],
   "source": [
    "import pandas as pd\n",
    "import numpy as np\n",
    "from collections import defaultdict \n",
    "import sys\n",
    "import os\n",
    "import matplotlib.pyplot as plt\n",
    "from tabulate import tabulate\n",
    "import time\n",
    "import keras \n",
    "from keras.models import Sequential, Model, load_model\n",
    "from keras.layers import Dense, Input, Dropout, Embedding, LSTM, Flatten, Lambda\n",
    "from sklearn.preprocessing import OneHotEncoder, MinMaxScaler\n",
    "from keras.preprocessing.text import Tokenizer\n",
    "\n",
    "from keras.utils import to_categorical\n",
    "from keras.callbacks import ModelCheckpoint, EarlyStopping\n",
    "from sklearn import preprocessing\n",
    "from sklearn.metrics import accuracy_score\n",
    "from sklearn.cross_validation import train_test_split\n",
    "from keras.utils.vis_utils import plot_model"
   ]
  },
  {
   "cell_type": "code",
   "execution_count": 17,
   "metadata": {},
   "outputs": [],
   "source": [
    "ADDR = '/nfs_home/nbhardwaj/data/rds_final/'\n",
    "w_ADDR = '/nfs_home/nbhardwaj/model_weights/finalwts/'"
   ]
  },
  {
   "cell_type": "code",
   "execution_count": 13,
   "metadata": {},
   "outputs": [],
   "source": [
    "from sklearn.preprocessing import LabelEncoder\n",
    "\n",
    "class LabelEncoderExt(object):\n",
    "    def __init__(self):\n",
    "        \"\"\"\n",
    "        It differs from LabelEncoder by handling new classes and providing a value for it [Unknown]\n",
    "        Unknown will be added in fit and transform will take care of new item. It gives unknown class id\n",
    "        \"\"\"\n",
    "        self.label_encoder = LabelEncoder()\n",
    "        # self.classes_ = self.label_encoder.classes_\n",
    "\n",
    "    def fit(self, data_list):\n",
    "        \"\"\"\n",
    "        This will fit the encoder for all the unique values and introduce unknown value\n",
    "        :param data_list: A list of string\n",
    "        :return: self\n",
    "        \"\"\"\n",
    "        self.label_encoder = self.label_encoder.fit(list(data_list) + ['Unknown'])\n",
    "        self.classes_ = self.label_encoder.classes_\n",
    "\n",
    "        return self\n",
    "\n",
    "    def transform(self, data_list):\n",
    "        \"\"\"\n",
    "        This will transform the data_list to id list where the new values get assigned to Unknown class\n",
    "        :param data_list:\n",
    "        :return:\n",
    "        \"\"\"\n",
    "        new_data_list = list(data_list)\n",
    "        m = {}\n",
    "        for x in self.label_encoder.classes_:\n",
    "            m[x] = True\n",
    "        for ind, y in enumerate(new_data_list):\n",
    "            if(m.get(y) is None):\n",
    "                new_data_list[ind] = 'Unknown'\n",
    "#         for unique_item in np.unique(data_list):\n",
    "#             if unique_item not in self.label_encoder.classes_:\n",
    "#                 new_data_list = ['Unknown' if x==unique_item else x for x in new_data_list]\n",
    "        return self.label_encoder.transform(new_data_list)\n",
    "    "
   ]
  },
  {
   "cell_type": "code",
   "execution_count": 14,
   "metadata": {},
   "outputs": [],
   "source": [
    "def create_model(embed_size = 10):\n",
    "    inp1 = Input(shape = (1,))\n",
    "    inp2 = Input(shape = (1,))\n",
    "    # inp3 = Input(shape = (1,))\n",
    "\n",
    "    embed1 = Embedding(len(le_inst.classes_), embed_size, input_length = 1)(inp1)\n",
    "    embed2 = Embedding(len(le_delta.classes_), embed_size, input_length = 1)(inp2)\n",
    "\n",
    "    merged_inp = keras.layers.concatenate([embed1, embed2], axis = 1)\n",
    "    merged_inp = Flatten()(merged_inp)\n",
    "    # merged_inp = keras.layers.concatenate([merged_inp, inp3])\n",
    "    \n",
    "#     out = LSTM(64)(merged_inp)\n",
    "    out = Dense(32, activation = 'relu')(merged_inp)\n",
    "    out = Dense(8, activation = 'softmax')(out)\n",
    "\n",
    "    model = Model([inp1, inp2], out)\n",
    "    return model"
   ]
  },
  {
   "cell_type": "code",
   "execution_count": 15,
   "metadata": {},
   "outputs": [
    {
     "name": "stdout",
     "output_type": "stream",
     "text": [
      "--------------------split done---------------------\n",
      "----------------labels done----------------------\n",
      "--------\n",
      "-------------------labels transformed---------------------\n",
      "using loaded model /nfs_home/nbhardwaj/model_weights/finalwts/510/510_0.hdf5\n",
      "------------training done------------\n",
      "--------------done processing for set----------> 0\n",
      "|| accuracy|| 0.866525411605835 0.866209864616394\n",
      "inst vocal 212 || delta vocal-> 28897\n",
      "____________________________________________________________________________________________________\n",
      "$$$$$$$ done for file ||------------> 510\n",
      "---------ALL DONE___________\n"
     ]
    }
   ],
   "source": [
    "files = [510\n",
    "#           , 511, 526, 600, 602, 620, 623, 625, 631, 641, 648, 657\n",
    "         ]\n",
    "sets = [0\n",
    "#     x for x in range(64)\n",
    "]\n",
    "df_m = pd.DataFrame(columns = ['fname', 'set', 'train_acc', 'test_acc', 'len', 'inst_v', 'delt_v'])\n",
    "for fname in files:\n",
    "    cw_ADDR = w_ADDR+str(fname)+'/'\n",
    "    for cset in sets:\n",
    "        if(not os.path.isdir(cw_ADDR)):\n",
    "            os.system(\"mkdir \"+cw_ADDR)\n",
    "            \n",
    "        df = pd.read_csv(ADDR+str(fname)+'_'+str(cset)+'.csv', index_col = [0], usecols = [0,2,7,8])\n",
    "        df.Instruction = df.Instruction.astype('str')\n",
    "        df.delta = df.delta.astype('float')\n",
    "\n",
    "        X = df[['Instruction', 'delta']].values[1:]\n",
    "        y = df[['label']].values[1:]\n",
    "        X_train, X_test, y_train, y_test = train_test_split(X, y, test_size = 0.4, random_state = 42)\n",
    "        print(\"--------------------split done---------------------\")\n",
    "        le_inst = LabelEncoderExt()\n",
    "        le_inst.fit(X_train[:, 0])\n",
    "        le_delta = LabelEncoderExt()\n",
    "        le_delta.fit(X_train[:, 1])\n",
    "        print(\"----------------labels done----------------------\")\n",
    "        X_train[:, 0] = le_inst.transform(X_train[:, 0])\n",
    "        X_train[:, 1] = le_delta.transform(X_train[:, 1])\n",
    "        print(\"--------\")\n",
    "\n",
    "        X_test[:, 0] = le_inst.transform(X_test[:, 0])\n",
    "        X_test[:, 1] = le_delta.transform(X_test[:, 1])\n",
    "        print(\"-------------------labels transformed---------------------\")\n",
    "        filepath = cw_ADDR+str(fname)+'_'+str(cset)+'.hdf5'\n",
    "\n",
    "        if(os.path.isfile(filepath)):\n",
    "            model = load_model(filepath)\n",
    "            print(\"using loaded model\", filepath)\n",
    "        else:\n",
    "            model = create_model()\n",
    "            model.compile(optimizer = 'adam', loss = 'categorical_crossentropy', metrics = ['accuracy'])\n",
    "     \n",
    "#         es = EarlyStopping(monitor = 'val_loss', mode = 'min', verbose = 1, patience = 2)\n",
    "#         mc = ModelCheckpoint(filepath, monitor = 'val_accuracy', save_best_only = True, mode = 'max')\n",
    "#         history = model.fit([X_train[:, 0], X_train[:, 1]], to_categorical(y_train), epochs = 50, \n",
    "#                   validation_split = 0.2, use_multiprocessing = True, verbose = 2, callbacks = [es, mc], batch_size = 256)\n",
    "\n",
    "        print(\"------------training done------------\")\n",
    "    #     model.save_weights(filepath)\n",
    "        t_ac = model.evaluate([X_test[:, 0], X_test[:, 1]], to_categorical(y_test), verbose = 2)[1]\n",
    "        tr_ac = model.evaluate([X_train[:, 0], X_train[:, 1]], to_categorical(y_train), verbose = 2)[1]\n",
    "        \n",
    "        # need to reduce len to test_size later\n",
    "#         df_m.loc[len(df_m)] = [fname, cset, tr_ac, t_ac, len(df), len(le_inst.classes_), len(le_delta.classes_)]\n",
    "\n",
    "        print(\"--------------done processing for set---------->\", cset)\n",
    "        print( '|| accuracy||', tr_ac, t_ac)\n",
    "        print(\"inst vocal\", len(le_inst.classes_), \"|| delta vocal->\", len(le_delta.classes_))\n",
    "        print(\"____________________________________________________________________________________________________\")\n",
    "#     df_m.to_csv(cw_ADDR+'results.csv')\n",
    "    print(\"$$$$$$$ done for file ||------------>\", fname)\n",
    "# df_m.to_csv(w_ADDR+'results.csv')\n",
    "print(\"---------ALL DONE___________\")"
   ]
  },
  {
   "cell_type": "code",
   "execution_count": null,
   "metadata": {},
   "outputs": [],
   "source": [
    "model.evaluate()"
   ]
  },
  {
   "cell_type": "code",
   "execution_count": 34,
   "metadata": {},
   "outputs": [
    {
     "data": {
      "text/plain": [
       "dict_keys(['accuracy', 'val_accuracy', 'val_loss', 'loss'])"
      ]
     },
     "execution_count": 34,
     "metadata": {},
     "output_type": "execute_result"
    }
   ],
   "source": [
    "# history.history.keys()"
   ]
  },
  {
   "cell_type": "code",
   "execution_count": 35,
   "metadata": {},
   "outputs": [
    {
     "data": {
      "image/png": "[encoded data removed]",
      "text/plain": [
       "<Figure size 432x288 with 1 Axes>"
      ]
     },
     "metadata": {
      "needs_background": "light"
     },
     "output_type": "display_data"
    }
   ],
   "source": [
    "# plt.plot(history.history['loss'], label = 'train')\n",
    "# plt.plot(history.history['val_loss'] , label = 'validation')\n",
    "# plt.legend()\n",
    "# plt.xlabel('epochs')\n",
    "# plt.ylabel('loss')\n",
    "# plt.show()"
   ]
  },
  {
   "cell_type": "code",
   "execution_count": 20,
   "metadata": {},
   "outputs": [],
   "source": [
    "!cd w_ADDR"
   ]
  },
  {
   "cell_type": "code",
   "execution_count": 36,
   "metadata": {},
   "outputs": [],
   "source": [
    "addr_l = [510  ,511 , 526,  600 , 602,  620,  631,  641, 648]"
   ]
  },
  {
   "cell_type": "code",
   "execution_count": 30,
   "metadata": {},
   "outputs": [],
   "source": [
    "for addr in addr_l:\n",
    "    if(not os.path.isfile(w_ADDR+str(addr)+'/'+'results.csv')):\n",
    "        print(addr)"
   ]
  },
  {
   "cell_type": "code",
   "execution_count": 37,
   "metadata": {},
   "outputs": [],
   "source": [
    "m = {}\n",
    "inst_voc = {}\n",
    "delt_voc = {}\n",
    "for addr in addr_l:\n",
    "    df = pd.read_csv(w_ADDR+str(addr)+'/results.csv')\n",
    "    inst_voc[addr] = np.mean(df.inst_v.values)\n",
    "    delt_voc[addr] = np.mean(df.delt_v.values)\n",
    "    m[addr] = 100*np.dot(df.test_acc.values, df.len.values)/np.sum(df.len.values)"
   ]
  },
  {
   "cell_type": "code",
   "execution_count": 38,
   "metadata": {},
   "outputs": [
    {
     "name": "stdout",
     "output_type": "stream",
     "text": [
      "{641: 703.0625, 648: 532.5703125, 510: 209.75, 631: 1218.859375, 600: 743.546875, 602: 35388.53125, 620: 1032.96875, 526: 813.1015625, 511: 1046.171875}\n"
     ]
    }
   ],
   "source": [
    "print(inst_voc)"
   ]
  },
  {
   "cell_type": "code",
   "execution_count": 39,
   "metadata": {},
   "outputs": [
    {
     "name": "stdout",
     "output_type": "stream",
     "text": [
      "{641: 907.171875, 648: 458.4453125, 510: 26900.46875, 631: 7546.75, 600: 2086.7760416666665, 602: 30183.9375, 620: 77553.9375, 526: 2171.359375, 511: 700.84375}\n"
     ]
    }
   ],
   "source": [
    "print(delt_voc)"
   ]
  },
  {
   "cell_type": "code",
   "execution_count": 40,
   "metadata": {},
   "outputs": [
    {
     "name": "stdout",
     "output_type": "stream",
     "text": [
      "{641: 93.3809256118209, 648: 94.70002364929236, 510: 86.62580390358154, 631: 91.29054379538019, 600: 91.01475624079966, 602: 88.67581705370743, 620: 85.80601742950273, 526: 91.09905508984875, 511: 91.48333858118957}\n"
     ]
    }
   ],
   "source": [
    "print(m)"
   ]
  },
  {
   "cell_type": "code",
   "execution_count": 45,
   "metadata": {},
   "outputs": [],
   "source": [
    "from collections import OrderedDict\n",
    "delt_voc = OrderedDict(sorted(delt_voc.items()))\n",
    "inst_voc = OrderedDict(sorted(inst_voc.items()))"
   ]
  },
  {
   "cell_type": "code",
   "execution_count": null,
   "metadata": {},
   "outputs": [],
   "source": []
  },
  {
   "cell_type": "code",
   "execution_count": 42,
   "metadata": {},
   "outputs": [],
   "source": [
    "from collections import OrderedDict\n",
    "m = OrderedDict(sorted(m.items()))"
   ]
  },
  {
   "cell_type": "code",
   "execution_count": 43,
   "metadata": {},
   "outputs": [
    {
     "data": {
      "image/png": "[encoded data removed]",
      "text/plain": [
       "<Figure size 432x288 with 1 Axes>"
      ]
     },
     "metadata": {},
     "output_type": "display_data"
    }
   ],
   "source": [
    "import seaborn as sns\n",
    "sns.set()\n",
    "plt.bar(range(len(m)), list(m.values()), align = 'center', color = 'r')\n",
    "plt.xticks(range(len(m)), list(m.keys()))\n",
    "plt.ylim((80, 100))\n",
    "plt.xlabel('Benchmarks')\n",
    "plt.ylabel('Accuracy(%)')\n",
    "plt.title('Embedding Classifier')\n",
    "plt.show()\n",
    "\n"
   ]
  },
  {
   "cell_type": "code",
   "execution_count": 46,
   "metadata": {},
   "outputs": [
    {
     "data": {
      "image/png": "[encoded data removed]",
      "text/plain": [
       "<Figure size 432x288 with 1 Axes>"
      ]
     },
     "metadata": {},
     "output_type": "display_data"
    }
   ],
   "source": [
    "\n",
    "plt.bar(range(len(delt_voc)), list(delt_voc.values()), align = 'center', color = 'r')\n",
    "plt.xticks(range(len(delt_voc)), list(delt_voc.keys()))\n",
    "# plt.ylim((80, 100))\n",
    "plt.xlabel('Benchmarks')\n",
    "plt.ylabel('# Unique Deltas')\n",
    "plt.show()\n",
    "\n"
   ]
  },
  {
   "cell_type": "code",
   "execution_count": 47,
   "metadata": {},
   "outputs": [
    {
     "data": {
      "image/png": "[encoded data removed]",
      "text/plain": [
       "<Figure size 432x288 with 1 Axes>"
      ]
     },
     "metadata": {},
     "output_type": "display_data"
    }
   ],
   "source": [
    "\n",
    "plt.bar(range(len(inst_voc)), list(inst_voc.values()), align = 'center', color = 'b')\n",
    "plt.xticks(range(len(inst_voc)), list(inst_voc.keys()))\n",
    "# plt.ylim((80, 100))\n",
    "plt.xlabel('Benchmarks')\n",
    "plt.ylabel('# Unique PC')\n",
    "plt.show()\n",
    "\n"
   ]
  },
  {
   "cell_type": "code",
   "execution_count": null,
   "metadata": {},
   "outputs": [],
   "source": []
  },
  {
   "cell_type": "code",
   "execution_count": null,
   "metadata": {},
   "outputs": [],
   "source": []
  },
  {
   "cell_type": "code",
   "execution_count": null,
   "metadata": {},
   "outputs": [],
   "source": [
    "# how to load the stored model\n",
    "\n",
    "# from keras.models import load_model\n",
    "# saved_model = load_model(filepath)\n",
    "# tr_ac = model.evaluate([X_train[:, 0], X_train[:, 1], X_train[:, 2]], to_categorical(y_train))[1]\n",
    "# print(\"train acc--->\", tr_ac)"
   ]
  }
 ],
 "metadata": {
  "kernelspec": {
   "display_name": "Python 3",
   "language": "python",
   "name": "python3"
  },
  "language_info": {
   "codemirror_mode": {
    "name": "ipython",
    "version": 3
   },
   "file_extension": ".py",
   "mimetype": "text/x-python",
   "name": "python",
   "nbconvert_exporter": "python",
   "pygments_lexer": "ipython3",
   "version": "3.5.2"
  }
 },
 "nbformat": 4,
 "nbformat_minor": 4
}
